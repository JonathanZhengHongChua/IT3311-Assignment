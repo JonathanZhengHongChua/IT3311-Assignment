{
  "cells": [
    {
      "cell_type": "markdown",
      "metadata": {
        "id": "SMlmDS_5TIAp"
      },
      "source": [
        "![NYPLogo.png](attachment:NYPLogo.png)\n",
        "\n",
        "# IT3311 Assignment - Task 1: Text Classification\n",
        "\n",
        "You are required to build a text classification model to predict the product category based on the product name and description.\n",
        "\n",
        "**Tasks:**\n",
        "\n",
        "1. **Data Understanding**: Examine the dataset\n",
        "2. **Data Preparation**: Prepares the data and all necessary preprocessing tasks\n",
        "3. **Modelling**: Use different text representation and algorithms\n",
        "4. **Evaluation**: Evaluates results from the algorithms and select the best model\n",
        "\n",
        "**Done by: Chua ZhengHong Jonathan - 201611S**"
      ]
    },
    {
      "cell_type": "markdown",
      "metadata": {
        "id": "Itejm5cOZJaA"
      },
      "source": [
        "# Table of contents\n",
        "1. [Data Understanding](#understanding)\n",
        "    * 1.1 [Item Name](#understandingcategory)\n",
        "    * 1.2 [Description](#understandingdescription)\n",
        "2. [Data Preparation](#preparation)\n",
        "    * 2.1 [Remove Punctuation, Numbers and Stopwords then perform Stemming](#clean)\n",
        "    * 2.2 [Common Word Removal](#removecommonwords)\n",
        "3. [Modelling](#modelling)\n",
        "    * 3.1 [Data Representations](#datarepresentation)\n",
        "        * 3.1.1 [Generate Vector Space Model using TF-IDF](#tfidf)\n",
        "    * 3.2 [Supervised Learning Classifiers](#supervised)\n",
        "        * 3.2.1 [Logistic Regression](#logisticregression)\n",
        "        * 3.2.2 [Support Vector Machine](#svc)\n",
        "        * 3.2.3 [Naive Bayes](#naivebayes)\n",
        "4. [Evaluation](#evaluation)\n",
        "    * 4.1 [Multiclass Classification](#multiclass)\n",
        "        * 4.1.1 [Predicting Category via Logistic Regression](#predictlogisticregression)\n",
        "        * 4.1.2 [Predicting Category via Support Vector Machine](#predictsvc)\n",
        "        * 4.1.3 [Predicting Category via Decision Tree](#predictnaivebayes)\n",
        "    * 4.2 [Model selection, Performance Evaluation and Hyperparameter Tuning using Pipeline along with GridSearch](#gridsearchcv)\n",
        "    * 4.3 [Performing Predictions](#prediction)"
      ]
    },
    {
      "cell_type": "code",
      "execution_count": 1,
      "metadata": {
        "colab": {
          "base_uri": "https://localhost:8080/",
          "height": 0
        },
        "id": "gsv1TZpRbqtB",
        "outputId": "3cc0243e-6af1-47ed-fe37-cdd6c5ef1636"
      },
      "outputs": [
        {
          "output_type": "stream",
          "name": "stdout",
          "text": [
            "Mounted at /content/drive\n"
          ]
        }
      ],
      "source": [
        "from google.colab import drive\n",
        "drive.mount('/content/drive')"
      ]
    },
    {
      "cell_type": "code",
      "execution_count": 2,
      "metadata": {
        "colab": {
          "base_uri": "https://localhost:8080/",
          "height": 0
        },
        "id": "aVztXfYxbtqR",
        "outputId": "c6e79a82-dca7-453f-aa84-6cd6895e0811"
      },
      "outputs": [
        {
          "output_type": "stream",
          "name": "stdout",
          "text": [
            "/content/drive/MyDrive/Text and Media Analytics\n"
          ]
        }
      ],
      "source": [
        "%cd '/content/drive/MyDrive/Text and Media Analytics/'"
      ]
    },
    {
      "cell_type": "markdown",
      "metadata": {
        "id": "g6BeRTpwTIAv"
      },
      "source": [
        "## Import libraries and download the packages"
      ]
    },
    {
      "cell_type": "code",
      "execution_count": 120,
      "metadata": {
        "id": "oh7UYFDkTIAw",
        "colab": {
          "base_uri": "https://localhost:8080/",
          "height": 0
        },
        "outputId": "550d5e3a-e7ac-40eb-a7cd-90a9a11d778a"
      },
      "outputs": [
        {
          "output_type": "stream",
          "name": "stderr",
          "text": [
            "[nltk_data] Downloading package stopwords to /root/nltk_data...\n",
            "[nltk_data]   Package stopwords is already up-to-date!\n",
            "[nltk_data] Downloading package punkt to /root/nltk_data...\n",
            "[nltk_data]   Package punkt is already up-to-date!\n",
            "[nltk_data] Downloading package wordnet to /root/nltk_data...\n",
            "[nltk_data]   Package wordnet is already up-to-date!\n",
            "[nltk_data] Downloading package omw-1.4 to /root/nltk_data...\n",
            "[nltk_data]   Package omw-1.4 is already up-to-date!\n"
          ]
        }
      ],
      "source": [
        "import pandas as pd\n",
        "import numpy as np\n",
        "import re\n",
        "import matplotlib.pyplot as plt\n",
        "from matplotlib.colors import ListedColormap \n",
        "%matplotlib inline\n",
        "import seaborn as sns\n",
        "\n",
        "import nltk\n",
        "nltk.download('stopwords')\n",
        "nltk.download('punkt')\n",
        "nltk.download('wordnet')\n",
        "#Import Stopwords list\n",
        "from nltk.corpus import stopwords\n",
        "\n",
        "#Importing word tokenizer\n",
        "from nltk.tokenize import word_tokenize\n",
        "\n",
        "#Import frequency distribution\n",
        "from nltk.probability import FreqDist\n",
        "\n",
        "import string\n",
        "nltk.download('omw-1.4')\n",
        "#Import Wordnet Lemmatizer\n",
        "from nltk.stem.wordnet import WordNetLemmatizer\n",
        "lem = WordNetLemmatizer()\n",
        "\n",
        "from sklearn.feature_extraction.text import TfidfVectorizer\n",
        "from sklearn.decomposition import TruncatedSVD\n",
        "from sklearn.preprocessing import Normalizer\n",
        "\n",
        "from glob import glob\n",
        "\n",
        "from itertools import cycle\n",
        "\n",
        "from sklearn.model_selection import train_test_split\n",
        "\n",
        "from sklearn.linear_model import LogisticRegression\n",
        "from sklearn.svm import SVC\n",
        "from sklearn.naive_bayes import MultinomialNB\n",
        "\n",
        "from sklearn.preprocessing import LabelBinarizer\n",
        "\n",
        "from sklearn.metrics import classification_report\n",
        "from sklearn.metrics import confusion_matrix, ConfusionMatrixDisplay\n",
        "\n",
        "from sklearn.pipeline import Pipeline\n",
        "from sklearn.model_selection import GridSearchCV"
      ]
    },
    {
      "cell_type": "markdown",
      "metadata": {
        "id": "blleloQETIAx"
      },
      "source": [
        "## Read the dataset"
      ]
    },
    {
      "cell_type": "markdown",
      "metadata": {
        "id": "w6_6wTD8ZJaE"
      },
      "source": [
        "Read the csv file."
      ]
    },
    {
      "cell_type": "code",
      "execution_count": 85,
      "metadata": {
        "id": "KzNQYGBoZJaE"
      },
      "outputs": [],
      "source": [
        "df = pd.read_csv('data.csv')"
      ]
    },
    {
      "cell_type": "markdown",
      "metadata": {
        "id": "Q0lEdq16TIAx"
      },
      "source": [
        "## Data Understanding\n",
        "Perform the necessary steps and explain the rationale taken here.\n",
        "\n"
      ]
    },
    {
      "cell_type": "code",
      "execution_count": 6,
      "metadata": {
        "colab": {
          "base_uri": "https://localhost:8080/",
          "height": 206
        },
        "id": "AfPL4iD6ZJaK",
        "outputId": "809ef7aa-e782-4310-d4c9-66069bf4a834",
        "scrolled": false
      },
      "outputs": [
        {
          "output_type": "execute_result",
          "data": {
            "text/plain": [
              "   item_id                        item_name image_name  \\\n",
              "0        1  etude house drawing eye brow ad      1.jpg   \n",
              "1        2      etude house drawing eyebrow      2.jpg   \n",
              "2        3       etude -new drawing eyebrow      3.jpg   \n",
              "3        4  etude house drawing eye brow ad      4.jpg   \n",
              "4        5      etude house - color my brow      5.jpg   \n",
              "\n",
              "                                         description category  \n",
              "0  READY\\n[Etude Eyebrow]\\nnote : tuliskan di ket...      Eye  \n",
              "1  READY JGN TNYA LAGI YA \\n\\nKUALITAS BOLEH DI A...      Eye  \n",
              "2  Barang ORI ya..\\nHarga jg sudah nett..\\n\\nOpti...      Eye  \n",
              "3  QTY PM AJA YA :\\nATC TIDAK ADA ALASAN APAPUN P...      Eye  \n",
              "4  ETUDE HOUSE - COLOR MY BROW\\n\\nTAHAN LAMA, ALI...      Eye  "
            ],
            "text/html": [
              "\n",
              "  <div id=\"df-adb17e3a-fe90-4002-aa08-e62f5d99352b\">\n",
              "    <div class=\"colab-df-container\">\n",
              "      <div>\n",
              "<style scoped>\n",
              "    .dataframe tbody tr th:only-of-type {\n",
              "        vertical-align: middle;\n",
              "    }\n",
              "\n",
              "    .dataframe tbody tr th {\n",
              "        vertical-align: top;\n",
              "    }\n",
              "\n",
              "    .dataframe thead th {\n",
              "        text-align: right;\n",
              "    }\n",
              "</style>\n",
              "<table border=\"1\" class=\"dataframe\">\n",
              "  <thead>\n",
              "    <tr style=\"text-align: right;\">\n",
              "      <th></th>\n",
              "      <th>item_id</th>\n",
              "      <th>item_name</th>\n",
              "      <th>image_name</th>\n",
              "      <th>description</th>\n",
              "      <th>category</th>\n",
              "    </tr>\n",
              "  </thead>\n",
              "  <tbody>\n",
              "    <tr>\n",
              "      <th>0</th>\n",
              "      <td>1</td>\n",
              "      <td>etude house drawing eye brow ad</td>\n",
              "      <td>1.jpg</td>\n",
              "      <td>READY\\n[Etude Eyebrow]\\nnote : tuliskan di ket...</td>\n",
              "      <td>Eye</td>\n",
              "    </tr>\n",
              "    <tr>\n",
              "      <th>1</th>\n",
              "      <td>2</td>\n",
              "      <td>etude house drawing eyebrow</td>\n",
              "      <td>2.jpg</td>\n",
              "      <td>READY JGN TNYA LAGI YA \\n\\nKUALITAS BOLEH DI A...</td>\n",
              "      <td>Eye</td>\n",
              "    </tr>\n",
              "    <tr>\n",
              "      <th>2</th>\n",
              "      <td>3</td>\n",
              "      <td>etude -new drawing eyebrow</td>\n",
              "      <td>3.jpg</td>\n",
              "      <td>Barang ORI ya..\\nHarga jg sudah nett..\\n\\nOpti...</td>\n",
              "      <td>Eye</td>\n",
              "    </tr>\n",
              "    <tr>\n",
              "      <th>3</th>\n",
              "      <td>4</td>\n",
              "      <td>etude house drawing eye brow ad</td>\n",
              "      <td>4.jpg</td>\n",
              "      <td>QTY PM AJA YA :\\nATC TIDAK ADA ALASAN APAPUN P...</td>\n",
              "      <td>Eye</td>\n",
              "    </tr>\n",
              "    <tr>\n",
              "      <th>4</th>\n",
              "      <td>5</td>\n",
              "      <td>etude house - color my brow</td>\n",
              "      <td>5.jpg</td>\n",
              "      <td>ETUDE HOUSE - COLOR MY BROW\\n\\nTAHAN LAMA, ALI...</td>\n",
              "      <td>Eye</td>\n",
              "    </tr>\n",
              "  </tbody>\n",
              "</table>\n",
              "</div>\n",
              "      <button class=\"colab-df-convert\" onclick=\"convertToInteractive('df-adb17e3a-fe90-4002-aa08-e62f5d99352b')\"\n",
              "              title=\"Convert this dataframe to an interactive table.\"\n",
              "              style=\"display:none;\">\n",
              "        \n",
              "  <svg xmlns=\"http://www.w3.org/2000/svg\" height=\"24px\"viewBox=\"0 0 24 24\"\n",
              "       width=\"24px\">\n",
              "    <path d=\"M0 0h24v24H0V0z\" fill=\"none\"/>\n",
              "    <path d=\"M18.56 5.44l.94 2.06.94-2.06 2.06-.94-2.06-.94-.94-2.06-.94 2.06-2.06.94zm-11 1L8.5 8.5l.94-2.06 2.06-.94-2.06-.94L8.5 2.5l-.94 2.06-2.06.94zm10 10l.94 2.06.94-2.06 2.06-.94-2.06-.94-.94-2.06-.94 2.06-2.06.94z\"/><path d=\"M17.41 7.96l-1.37-1.37c-.4-.4-.92-.59-1.43-.59-.52 0-1.04.2-1.43.59L10.3 9.45l-7.72 7.72c-.78.78-.78 2.05 0 2.83L4 21.41c.39.39.9.59 1.41.59.51 0 1.02-.2 1.41-.59l7.78-7.78 2.81-2.81c.8-.78.8-2.07 0-2.86zM5.41 20L4 18.59l7.72-7.72 1.47 1.35L5.41 20z\"/>\n",
              "  </svg>\n",
              "      </button>\n",
              "      \n",
              "  <style>\n",
              "    .colab-df-container {\n",
              "      display:flex;\n",
              "      flex-wrap:wrap;\n",
              "      gap: 12px;\n",
              "    }\n",
              "\n",
              "    .colab-df-convert {\n",
              "      background-color: #E8F0FE;\n",
              "      border: none;\n",
              "      border-radius: 50%;\n",
              "      cursor: pointer;\n",
              "      display: none;\n",
              "      fill: #1967D2;\n",
              "      height: 32px;\n",
              "      padding: 0 0 0 0;\n",
              "      width: 32px;\n",
              "    }\n",
              "\n",
              "    .colab-df-convert:hover {\n",
              "      background-color: #E2EBFA;\n",
              "      box-shadow: 0px 1px 2px rgba(60, 64, 67, 0.3), 0px 1px 3px 1px rgba(60, 64, 67, 0.15);\n",
              "      fill: #174EA6;\n",
              "    }\n",
              "\n",
              "    [theme=dark] .colab-df-convert {\n",
              "      background-color: #3B4455;\n",
              "      fill: #D2E3FC;\n",
              "    }\n",
              "\n",
              "    [theme=dark] .colab-df-convert:hover {\n",
              "      background-color: #434B5C;\n",
              "      box-shadow: 0px 1px 3px 1px rgba(0, 0, 0, 0.15);\n",
              "      filter: drop-shadow(0px 1px 2px rgba(0, 0, 0, 0.3));\n",
              "      fill: #FFFFFF;\n",
              "    }\n",
              "  </style>\n",
              "\n",
              "      <script>\n",
              "        const buttonEl =\n",
              "          document.querySelector('#df-adb17e3a-fe90-4002-aa08-e62f5d99352b button.colab-df-convert');\n",
              "        buttonEl.style.display =\n",
              "          google.colab.kernel.accessAllowed ? 'block' : 'none';\n",
              "\n",
              "        async function convertToInteractive(key) {\n",
              "          const element = document.querySelector('#df-adb17e3a-fe90-4002-aa08-e62f5d99352b');\n",
              "          const dataTable =\n",
              "            await google.colab.kernel.invokeFunction('convertToInteractive',\n",
              "                                                     [key], {});\n",
              "          if (!dataTable) return;\n",
              "\n",
              "          const docLinkHtml = 'Like what you see? Visit the ' +\n",
              "            '<a target=\"_blank\" href=https://colab.research.google.com/notebooks/data_table.ipynb>data table notebook</a>'\n",
              "            + ' to learn more about interactive tables.';\n",
              "          element.innerHTML = '';\n",
              "          dataTable['output_type'] = 'display_data';\n",
              "          await google.colab.output.renderOutput(dataTable, element);\n",
              "          const docLink = document.createElement('div');\n",
              "          docLink.innerHTML = docLinkHtml;\n",
              "          element.appendChild(docLink);\n",
              "        }\n",
              "      </script>\n",
              "    </div>\n",
              "  </div>\n",
              "  "
            ]
          },
          "metadata": {},
          "execution_count": 6
        }
      ],
      "source": [
        "df.head(5)"
      ]
    },
    {
      "cell_type": "markdown",
      "metadata": {
        "id": "GvxUiWsEZJaK"
      },
      "source": [
        "Head reveals that the description is not necessariliy in English. This means stopword removal needs to be done in another language."
      ]
    },
    {
      "cell_type": "code",
      "execution_count": 7,
      "metadata": {
        "colab": {
          "base_uri": "https://localhost:8080/",
          "height": 0
        },
        "id": "CcEVfHDTZJaK",
        "outputId": "37c66df0-1d35-496c-c93c-af5ff1f410fb"
      },
      "outputs": [
        {
          "output_type": "stream",
          "name": "stdout",
          "text": [
            "<class 'pandas.core.frame.DataFrame'>\n",
            "RangeIndex: 1887 entries, 0 to 1886\n",
            "Data columns (total 5 columns):\n",
            " #   Column       Non-Null Count  Dtype \n",
            "---  ------       --------------  ----- \n",
            " 0   item_id      1887 non-null   int64 \n",
            " 1   item_name    1887 non-null   object\n",
            " 2   image_name   1887 non-null   object\n",
            " 3   description  1887 non-null   object\n",
            " 4   category     1887 non-null   object\n",
            "dtypes: int64(1), object(4)\n",
            "memory usage: 73.8+ KB\n"
          ]
        }
      ],
      "source": [
        "df.info()"
      ]
    },
    {
      "cell_type": "markdown",
      "metadata": {
        "id": "GqlSQkwzZJaK"
      },
      "source": [
        "This dataset has 5 columns, item_id, item_name, image_name, description, category. There are 1887 documents and no column has null values.<br>\n",
        "Excluding the item_id (likely the unique identifier and hence not a meaningful feature, all the columns are of String dtype (represented as object in DataFrame).<br>"
      ]
    },
    {
      "cell_type": "code",
      "execution_count": 8,
      "metadata": {
        "colab": {
          "base_uri": "https://localhost:8080/",
          "height": 0
        },
        "id": "M5QjPQk3ZJaL",
        "outputId": "95b2c410-9935-4c1c-faaf-69609320afbb"
      },
      "outputs": [
        {
          "output_type": "execute_result",
          "data": {
            "text/plain": [
              "item_id        0\n",
              "item_name      0\n",
              "image_name     0\n",
              "description    0\n",
              "category       0\n",
              "dtype: int64"
            ]
          },
          "metadata": {},
          "execution_count": 8
        }
      ],
      "source": [
        "df.isnull().sum()"
      ]
    },
    {
      "cell_type": "markdown",
      "metadata": {
        "id": "QcXdAMfNZJaM"
      },
      "source": [
        "There are no missing values."
      ]
    },
    {
      "cell_type": "markdown",
      "metadata": {
        "id": "l3naJj9BakKG"
      },
      "source": [
        "### 1.1 Data Understanding - Item Name<a name='understandingname'></a>"
      ]
    },
    {
      "cell_type": "markdown",
      "source": [
        "#### Tokenization"
      ],
      "metadata": {
        "id": "cuXGJRzEW5OU"
      }
    },
    {
      "cell_type": "code",
      "source": [
        "#Loop through all reviews and tokenize into words\n",
        "df['item_name'] = df['item_name'].apply(lambda x: word_tokenize(x.lower()))\n",
        "all_name_words = [word for sent in df['item_name'] for word in sent]\n",
        "\n",
        "#print the first 10 words\n",
        "print(all_name_words[:10])"
      ],
      "metadata": {
        "colab": {
          "base_uri": "https://localhost:8080/",
          "height": 0
        },
        "id": "eo4vrWpTZxN3",
        "outputId": "8230f116-52ad-49f6-ad54-a10aad5946c1"
      },
      "execution_count": 87,
      "outputs": [
        {
          "output_type": "stream",
          "name": "stdout",
          "text": [
            "['etude', 'house', 'drawing', 'eye', 'brow', 'ad', 'etude', 'house', 'drawing', 'eyebrow']\n"
          ]
        }
      ]
    },
    {
      "cell_type": "code",
      "source": [
        "# calculate the number of occurence of each word in the entire list of words\n",
        "all_name_words_frequency = FreqDist(all_name_words)\n",
        "print (all_name_words_frequency)\n",
        "\n",
        "# print 10 most frequently occurring words\n",
        "print (\"\\nTop 10 most frequently occurring words\")\n",
        "print (all_name_words_frequency.most_common(10))\n",
        "\n",
        "# print 10 least frequently occurring words\n",
        "print (\"\\nTop 10 least frequently occurring words\")\n",
        "print (all_name_words_frequency.most_common()[-10:])"
      ],
      "metadata": {
        "colab": {
          "base_uri": "https://localhost:8080/",
          "height": 0
        },
        "id": "GtWt0n2napH2",
        "outputId": "0924210c-df83-44d5-ce7d-bcd78bdcd639"
      },
      "execution_count": 88,
      "outputs": [
        {
          "output_type": "stream",
          "name": "stdout",
          "text": [
            "<FreqDist with 1274 samples and 14645 outcomes>\n",
            "\n",
            "Top 10 most frequently occurring words\n",
            "[('maybelline', 678), ('etude', 524), ('house', 409), ('bb', 350), ('powder', 303), ('cushion', 288), ('bioaqua', 284), ('-', 228), ('foundation', 228), ('matte', 221)]\n",
            "\n",
            "Top 10 least frequently occurring words\n",
            "[('pro-matte', 1), ('loreal', 1), ('50g', 1), ('expressã\\x82â®', 1), ('shotã¢â\\x84â¢', 1), ('washable', 1), ('pot', 1), ('violet', 1), ('qd04', 1), ('us', 1)]\n"
          ]
        }
      ]
    },
    {
      "cell_type": "code",
      "source": [
        "# create a function to plot the frequency, make it a function as we will be re-using it later.\n",
        "def plot_frequency(freq):\n",
        "    plt.figure(figsize=(10,5))\n",
        "    freq.plot(50, cumulative=False)\n",
        "    plt.show()\n",
        "\n",
        "plot_frequency(all_name_words_frequency)"
      ],
      "metadata": {
        "colab": {
          "base_uri": "https://localhost:8080/",
          "height": 381
        },
        "id": "KXjbiWeJapKJ",
        "outputId": "35e37cae-d7b5-403b-ff0c-76077d8548cd"
      },
      "execution_count": 68,
      "outputs": [
        {
          "output_type": "display_data",
          "data": {
            "text/plain": [
              "<Figure size 720x360 with 1 Axes>"
            ],
            "image/png": "[encoded data removed]"
          },
          "metadata": {
            "needs_background": "light"
          }
        }
      ]
    },
    {
      "cell_type": "markdown",
      "source": [
        "The top 3 most common words are maybelline, etude, house, which are brand names. These will be added to stop words later. Aside from punctuation, words like matte, foundation, and bb are meaninful to distinguish product category so these will be kept."
      ],
      "metadata": {
        "id": "dkh-1DReiTNW"
      }
    },
    {
      "cell_type": "markdown",
      "metadata": {
        "id": "lLS5vkYea-qf"
      },
      "source": [
        "### 1.2 Data Understanding - Description <a name='understandingdescription'></a>"
      ]
    },
    {
      "cell_type": "markdown",
      "source": [
        "See the first 5 descriptions."
      ],
      "metadata": {
        "id": "8vY7Dp04h3gv"
      }
    },
    {
      "cell_type": "code",
      "source": [
        "for i in range(5):\n",
        "  print(\"-\"*50)\n",
        "  print(\"description of index number: \"+str(i))\n",
        "  display(df['description'][i])"
      ],
      "metadata": {
        "colab": {
          "base_uri": "https://localhost:8080/",
          "height": 387
        },
        "id": "XuRJlmLRbh9C",
        "outputId": "69337a38-7a69-42c6-b0bf-ab6c61f9e800"
      },
      "execution_count": 69,
      "outputs": [
        {
          "output_type": "stream",
          "name": "stdout",
          "text": [
            "--------------------------------------------------\n",
            "description of index number: 0\n"
          ]
        },
        {
          "output_type": "display_data",
          "data": {
            "text/plain": [
              "'READY [Etude Eyebrow] note : tuliskan di keterangan warna item yang dipilih Pensil alis bertekstur lembut hadir dengan bermacam varian warna agar sesuai dengan warna kulit & rambut, memberikan hasil natural & rapi Drawing Eye Brow AD 01 dark brown Drawing Eye Brow AD 02 grey brown  Drawing Eye Brow AD 03 brown Drawing Eye Brow AD 04 dark grey  Drawing Eye Brow AD 05 grey Drawing Eye Brow AD 06 black apabila tdk tersedia dikirim yg ada , kecuali tdk ada = cancel no komplain !!!'"
            ],
            "application/vnd.google.colaboratory.intrinsic+json": {
              "type": "string"
            }
          },
          "metadata": {}
        },
        {
          "output_type": "stream",
          "name": "stdout",
          "text": [
            "--------------------------------------------------\n",
            "description of index number: 1\n"
          ]
        },
        {
          "output_type": "display_data",
          "data": {
            "text/plain": [
              "'READY JGN TNYA LAGI YA  KUALITAS BOLEH DI ADU DENGAN TOKO SEBELAH ^^ 01.DARK BROWN = READY 02.GRAY BROWN = READY 03. BROWN = READY 04.DARK GRAY = READY 05.GRAY = READY 06. BLACK = READY Order tanpa varian/yg diminta habis, akan dikirim stok yg ada, kecuali ada note; varian kosong = cancel Barang bersegel, tidak menerima retur/komplain utk isi produk'"
            ],
            "application/vnd.google.colaboratory.intrinsic+json": {
              "type": "string"
            }
          },
          "metadata": {}
        },
        {
          "output_type": "stream",
          "name": "stdout",
          "text": [
            "--------------------------------------------------\n",
            "description of index number: 2\n"
          ]
        },
        {
          "output_type": "display_data",
          "data": {
            "text/plain": [
              "'Barang ORI ya.. Harga jg sudah nett.. Option : 1. Dark brown 2. Gray brown 3. Brown 4. Dark grey 5. Grey 6. Black 7. Light Brown Versi baru dr Drawing eyebrow lama,lbh panjang isinya..warna sama.. Utk order,lihat di contact profile ya Serious buyer,serious order only NO HIT&RUN DEAL,NO CANCEL #etudeorimurah #etudejkt #drawingeyebrownew #drawingeyebrowmurah #pensilalisetude #eyebrowetude #etudeeyebrow #makeup #makeupalis #pensilalis'"
            ],
            "application/vnd.google.colaboratory.intrinsic+json": {
              "type": "string"
            }
          },
          "metadata": {}
        },
        {
          "output_type": "stream",
          "name": "stdout",
          "text": [
            "--------------------------------------------------\n",
            "description of index number: 3\n"
          ]
        },
        {
          "output_type": "display_data",
          "data": {
            "text/plain": [
              "'QTY PM AJA YA : ATC TIDAK ADA ALASAN APAPUN PEMBATALAN AKAN KIRIM RANDOM WARNANYA. KARENA AKAN MENGURANGI PRESENTASE TRANSAKSI KAMI.. MOHON PENGERTIANNYA [Etude Eyebrow] note : tuliskan di keterangan warna item yang dipilih Pensil alis bertekstur lembut hadir dengan bermacam varian warna agar sesuai dengan warna kulit & rambut, memberikan hasil natural & rapi Drawing Eye Brow AD 01 dark brown  Drawing Eye Brow AD 02 grey brown  Drawing Eye Brow AD 03 brown  Drawing Eye Brow AD 04 dark grey Drawing Eye Brow AD 05 grey  Drawing Eye Brow AD 06 black #ETUDE #ALIS #KOSMETIK'"
            ],
            "application/vnd.google.colaboratory.intrinsic+json": {
              "type": "string"
            }
          },
          "metadata": {}
        },
        {
          "output_type": "stream",
          "name": "stdout",
          "text": [
            "--------------------------------------------------\n",
            "description of index number: 4\n"
          ]
        },
        {
          "output_type": "display_data",
          "data": {
            "text/plain": [
              "'ETUDE HOUSE - COLOR MY BROW TAHAN LAMA, ALIS SPT DISULAM. READY : # 01 RICH BROWN  # 02 LIGHT BROWN # 03 RED BROWN # 04 NATURAL BROWN # 05 BLONDE BROWN'"
            ],
            "application/vnd.google.colaboratory.intrinsic+json": {
              "type": "string"
            }
          },
          "metadata": {}
        }
      ]
    },
    {
      "cell_type": "markdown",
      "source": [
        "Description contains newline characters which have to be removed first before I can tokenize."
      ],
      "metadata": {
        "id": "AkTYETbuhaF3"
      }
    },
    {
      "cell_type": "code",
      "source": [
        "def remove_newline(text):\n",
        "    '''\n",
        "    replace newline characters with space.\n",
        "    '''\n",
        "    return re.sub(r'[\\n\\r\\t]+', ' ', text)"
      ],
      "metadata": {
        "id": "p1ok-MYnnHPV"
      },
      "execution_count": 89,
      "outputs": []
    },
    {
      "cell_type": "markdown",
      "source": [
        "Remove newline characters in the first 5 descriptions to see the changes."
      ],
      "metadata": {
        "id": "kUQfrxtZoK_l"
      }
    },
    {
      "cell_type": "code",
      "source": [
        "for i in range(5):\n",
        "  print(\"-\"*50)\n",
        "  print(\"description of index number: \"+str(i))\n",
        "  display(remove_newline(df['description'][i]))"
      ],
      "metadata": {
        "colab": {
          "base_uri": "https://localhost:8080/",
          "height": 387
        },
        "id": "vkmYq41HnjRT",
        "outputId": "ffdfe29c-9db1-458c-ed16-ebc327f91542"
      },
      "execution_count": 71,
      "outputs": [
        {
          "output_type": "stream",
          "name": "stdout",
          "text": [
            "--------------------------------------------------\n",
            "description of index number: 0\n"
          ]
        },
        {
          "output_type": "display_data",
          "data": {
            "text/plain": [
              "'READY [Etude Eyebrow] note : tuliskan di keterangan warna item yang dipilih Pensil alis bertekstur lembut hadir dengan bermacam varian warna agar sesuai dengan warna kulit & rambut, memberikan hasil natural & rapi Drawing Eye Brow AD 01 dark brown Drawing Eye Brow AD 02 grey brown  Drawing Eye Brow AD 03 brown Drawing Eye Brow AD 04 dark grey  Drawing Eye Brow AD 05 grey Drawing Eye Brow AD 06 black apabila tdk tersedia dikirim yg ada , kecuali tdk ada = cancel no komplain !!!'"
            ],
            "application/vnd.google.colaboratory.intrinsic+json": {
              "type": "string"
            }
          },
          "metadata": {}
        },
        {
          "output_type": "stream",
          "name": "stdout",
          "text": [
            "--------------------------------------------------\n",
            "description of index number: 1\n"
          ]
        },
        {
          "output_type": "display_data",
          "data": {
            "text/plain": [
              "'READY JGN TNYA LAGI YA  KUALITAS BOLEH DI ADU DENGAN TOKO SEBELAH ^^ 01.DARK BROWN = READY 02.GRAY BROWN = READY 03. BROWN = READY 04.DARK GRAY = READY 05.GRAY = READY 06. BLACK = READY Order tanpa varian/yg diminta habis, akan dikirim stok yg ada, kecuali ada note; varian kosong = cancel Barang bersegel, tidak menerima retur/komplain utk isi produk'"
            ],
            "application/vnd.google.colaboratory.intrinsic+json": {
              "type": "string"
            }
          },
          "metadata": {}
        },
        {
          "output_type": "stream",
          "name": "stdout",
          "text": [
            "--------------------------------------------------\n",
            "description of index number: 2\n"
          ]
        },
        {
          "output_type": "display_data",
          "data": {
            "text/plain": [
              "'Barang ORI ya.. Harga jg sudah nett.. Option : 1. Dark brown 2. Gray brown 3. Brown 4. Dark grey 5. Grey 6. Black 7. Light Brown Versi baru dr Drawing eyebrow lama,lbh panjang isinya..warna sama.. Utk order,lihat di contact profile ya Serious buyer,serious order only NO HIT&RUN DEAL,NO CANCEL #etudeorimurah #etudejkt #drawingeyebrownew #drawingeyebrowmurah #pensilalisetude #eyebrowetude #etudeeyebrow #makeup #makeupalis #pensilalis'"
            ],
            "application/vnd.google.colaboratory.intrinsic+json": {
              "type": "string"
            }
          },
          "metadata": {}
        },
        {
          "output_type": "stream",
          "name": "stdout",
          "text": [
            "--------------------------------------------------\n",
            "description of index number: 3\n"
          ]
        },
        {
          "output_type": "display_data",
          "data": {
            "text/plain": [
              "'QTY PM AJA YA : ATC TIDAK ADA ALASAN APAPUN PEMBATALAN AKAN KIRIM RANDOM WARNANYA. KARENA AKAN MENGURANGI PRESENTASE TRANSAKSI KAMI.. MOHON PENGERTIANNYA [Etude Eyebrow] note : tuliskan di keterangan warna item yang dipilih Pensil alis bertekstur lembut hadir dengan bermacam varian warna agar sesuai dengan warna kulit & rambut, memberikan hasil natural & rapi Drawing Eye Brow AD 01 dark brown  Drawing Eye Brow AD 02 grey brown  Drawing Eye Brow AD 03 brown  Drawing Eye Brow AD 04 dark grey Drawing Eye Brow AD 05 grey  Drawing Eye Brow AD 06 black #ETUDE #ALIS #KOSMETIK'"
            ],
            "application/vnd.google.colaboratory.intrinsic+json": {
              "type": "string"
            }
          },
          "metadata": {}
        },
        {
          "output_type": "stream",
          "name": "stdout",
          "text": [
            "--------------------------------------------------\n",
            "description of index number: 4\n"
          ]
        },
        {
          "output_type": "display_data",
          "data": {
            "text/plain": [
              "'ETUDE HOUSE - COLOR MY BROW TAHAN LAMA, ALIS SPT DISULAM. READY : # 01 RICH BROWN  # 02 LIGHT BROWN # 03 RED BROWN # 04 NATURAL BROWN # 05 BLONDE BROWN'"
            ],
            "application/vnd.google.colaboratory.intrinsic+json": {
              "type": "string"
            }
          },
          "metadata": {}
        }
      ]
    },
    {
      "cell_type": "markdown",
      "source": [
        "Apply row-wise to the whole column."
      ],
      "metadata": {
        "id": "YBUKT4GjoQZ1"
      }
    },
    {
      "cell_type": "code",
      "source": [
        "df['description'] = df['description'].apply(lambda x: remove_newline(x))  "
      ],
      "metadata": {
        "id": "xu7uxa8SoThS"
      },
      "execution_count": 90,
      "outputs": []
    },
    {
      "cell_type": "markdown",
      "source": [
        "The words in description appear to have a language that is not English. I will take a look at the list of stopwords found in nltk to see which language fits best."
      ],
      "metadata": {
        "id": "S8zMkaMnn7nu"
      }
    },
    {
      "cell_type": "code",
      "source": [
        "print(stopwords.fileids())"
      ],
      "metadata": {
        "colab": {
          "base_uri": "https://localhost:8080/",
          "height": 0
        },
        "id": "ZMrdt_hdhmXH",
        "outputId": "35c5072a-1711-456a-c1d0-a83fc5f63751"
      },
      "execution_count": 91,
      "outputs": [
        {
          "output_type": "stream",
          "name": "stdout",
          "text": [
            "['arabic', 'azerbaijani', 'basque', 'bengali', 'catalan', 'chinese', 'danish', 'dutch', 'english', 'finnish', 'french', 'german', 'greek', 'hebrew', 'hinglish', 'hungarian', 'indonesian', 'italian', 'kazakh', 'nepali', 'norwegian', 'portuguese', 'romanian', 'russian', 'slovene', 'spanish', 'swedish', 'tajik', 'turkish']\n"
          ]
        }
      ]
    },
    {
      "cell_type": "markdown",
      "source": [
        "Looking at this available stopwords list, I decided the description fits indonesian the most. Hence I will be using this along with English (some words are also in English)."
      ],
      "metadata": {
        "id": "_yxdQhFfhn78"
      }
    },
    {
      "cell_type": "markdown",
      "source": [
        "#### Tokenization"
      ],
      "metadata": {
        "id": "RgynAQqEa-qg"
      }
    },
    {
      "cell_type": "code",
      "source": [
        "#Loop through all reviews and tokenize into words\n",
        "df['description'] = df['description'].apply(lambda x: word_tokenize(x.lower()))\n",
        "all_description_words = [word for sent in df['description'] for word in sent]\n",
        "\n",
        "#print the first 10 words\n",
        "print(all_description_words[:10])"
      ],
      "metadata": {
        "colab": {
          "base_uri": "https://localhost:8080/",
          "height": 0
        },
        "outputId": "eaa46a91-4356-4542-8e2e-3d8711ee1447",
        "id": "WjKuSa-Ra-qg"
      },
      "execution_count": 92,
      "outputs": [
        {
          "output_type": "stream",
          "name": "stdout",
          "text": [
            "['ready', '[', 'etude', 'eyebrow', ']', 'note', ':', 'tuliskan', 'di', 'keterangan']\n"
          ]
        }
      ]
    },
    {
      "cell_type": "code",
      "source": [
        "# calculate the number of occurence of each word in the entire list of words\n",
        "all_description_words_frequency = FreqDist(all_description_words)\n",
        "print (all_description_words_frequency)\n",
        "\n",
        "# print 10 most frequently occurring words\n",
        "print (\"\\nTop 10 most frequently occurring words\")\n",
        "print (all_description_words_frequency.most_common(10))\n",
        "\n",
        "# print 10 least frequently occurring words\n",
        "print (\"\\nTop 10 least frequently occurring words\")\n",
        "print (all_description_words_frequency.most_common()[-10:])"
      ],
      "metadata": {
        "colab": {
          "base_uri": "https://localhost:8080/",
          "height": 0
        },
        "outputId": "6bc66ef4-b2b2-46c7-a0ee-883b2fab4783",
        "id": "lXPHQ8Gka-qh"
      },
      "execution_count": 93,
      "outputs": [
        {
          "output_type": "stream",
          "name": "stdout",
          "text": [
            "<FreqDist with 11831 samples and 186595 outcomes>\n",
            "\n",
            "Top 10 most frequently occurring words\n",
            "[('#', 8631), ('.', 5786), (',', 5037), ('dan', 2801), (':', 2674), ('-', 2242), ('yang', 2065), (')', 1604), ('dengan', 1585), ('untuk', 1582)]\n",
            "\n",
            "Top 10 least frequently occurring words\n",
            "[('konfirm', 1), ('menyebutkan', 1), ('dicantumkan', 1), ('meringankan', 1), ('pulih', 1), ('ketidaknyamanan', 1), ('ã°â\\x9fâ\\x92â¡bisa', 1), ('ã°â\\x9fâ\\x92â¡cek', 1), ('ã°â\\x9fâ\\x92â¡info', 1), ('lipmoisturizer', 1)]\n"
          ]
        }
      ]
    },
    {
      "cell_type": "code",
      "source": [
        "plot_frequency(all_description_words_frequency)"
      ],
      "metadata": {
        "colab": {
          "base_uri": "https://localhost:8080/",
          "height": 382
        },
        "outputId": "6ff234c4-32a0-4272-d4aa-f989031990ad",
        "id": "HfOL4VgfbRFf"
      },
      "execution_count": 77,
      "outputs": [
        {
          "output_type": "display_data",
          "data": {
            "text/plain": [
              "<Figure size 720x360 with 1 Axes>"
            ],
            "image/png": "[encoded data removed]"
          },
          "metadata": {
            "needs_background": "light"
          }
        }
      ]
    },
    {
      "cell_type": "markdown",
      "source": [
        "Description contains much muore samples and outcomes compared to the item name. Most frequently occuring words are mainly punctuation that have to be removed."
      ],
      "metadata": {
        "id": "J-9ZoaSNiuKM"
      }
    },
    {
      "cell_type": "markdown",
      "metadata": {
        "id": "d9qZ68sjZJaM"
      },
      "source": [
        "### 1.3 Data Understanding - Category<a name='understandingcategory'></a>"
      ]
    },
    {
      "cell_type": "markdown",
      "metadata": {
        "id": "P9XjSaryZJaM"
      },
      "source": [
        "As a start I would like to know the possible list of categories. I can do so via getting the value_counts() of the Category column."
      ]
    },
    {
      "cell_type": "code",
      "execution_count": 60,
      "metadata": {
        "colab": {
          "base_uri": "https://localhost:8080/",
          "height": 0
        },
        "id": "_19w6kIvZJaM",
        "outputId": "2871d4fd-2c5b-4d32-8f95-1d4f8a89bb33"
      },
      "outputs": [
        {
          "output_type": "execute_result",
          "data": {
            "text/plain": [
              "Face    931\n",
              "Lip     501\n",
              "Eye     455\n",
              "Name: category, dtype: int64"
            ]
          },
          "metadata": {},
          "execution_count": 60
        }
      ],
      "source": [
        "df['category'].value_counts()"
      ]
    },
    {
      "cell_type": "markdown",
      "metadata": {
        "id": "0TXOb2IUZJaM"
      },
      "source": [
        "There are 3 unique values in categories, Face, Lip and Eye."
      ]
    },
    {
      "cell_type": "code",
      "execution_count": 61,
      "metadata": {
        "colab": {
          "base_uri": "https://localhost:8080/",
          "height": 486
        },
        "id": "g-xtkXdmZJaN",
        "outputId": "48f0d0a4-00ff-4cc9-ec6c-45c90860d048"
      },
      "outputs": [
        {
          "output_type": "display_data",
          "data": {
            "text/plain": [
              "<Figure size 1008x576 with 1 Axes>"
            ],
            "image/png": "[encoded data removed]"
          },
          "metadata": {}
        }
      ],
      "source": [
        "categories = df['category'].unique()\n",
        "cat_counts = df['category'].value_counts()\n",
        "pie_data = np.array(cat_counts)\n",
        "zipped = zip(cat_counts,categories)\n",
        "\n",
        "labels = [x for _,x in list(zipped)]\n",
        "fig, ax = plt.subplots(figsize=(14, 8), subplot_kw=dict(aspect=\"equal\"))\n",
        "\n",
        "def pie_text(pct, allvals):\n",
        "    absolute = int(np.round(pct/100.*np.sum(allvals)))\n",
        "    return \"{:d}\\n({:.1f}%)\".format(absolute, pct)\n",
        "\n",
        "wedges, texts, autotexts = ax.pie(pie_data, labels=labels, autopct=lambda pct: pie_text(pct, pie_data),\n",
        "                                  textprops=dict(color=\"w\"))\n",
        "for i in range(len(texts)):\n",
        "    texts[i].set_color('k')\n",
        "    texts[i].set_fontsize(14)\n",
        "\n",
        "ax.legend(wedges, categories,\n",
        "          title=\"Product Categories\",\n",
        "          loc=\"center left\",\n",
        "          bbox_to_anchor=(1.25, 0, 0.5, 1), fontsize=12)\n",
        "\n",
        "plt.setp(autotexts, size=12, weight=\"bold\")\n",
        "plt.setp(plt.gca().get_legend().get_title(), fontsize='12')\n",
        "ax.set_title(\"Video Categories Breakdown\", fontsize=18)\n",
        "\n",
        "plt.show() "
      ]
    },
    {
      "cell_type": "markdown",
      "metadata": {
        "id": "UTBRIS_iZJaN"
      },
      "source": [
        "As seen in the pie chart above, there is a good mix of each video category and no unbalanced label. I will hence not apply techniques to handle unbalanced data."
      ]
    },
    {
      "cell_type": "markdown",
      "metadata": {
        "id": "rPKAj6iOTIAy"
      },
      "source": [
        "## 2. Data Preparation\n",
        "Perform the necessary steps and explain the rationale taken here.\n",
        "\n"
      ]
    },
    {
      "cell_type": "markdown",
      "source": [
        "#### 2.1 Remove Punctuation, Numbers and Stopwords then perform Stemming<a name='clean'></a>"
      ],
      "metadata": {
        "id": "bNEShD1iW9Ye"
      }
    },
    {
      "cell_type": "markdown",
      "source": [
        "Set Stopwords to use."
      ],
      "metadata": {
        "id": "QqDxpuyulj-y"
      }
    },
    {
      "cell_type": "code",
      "source": [
        "stop_words=set(stopwords.words(\"indonesian\"))\n",
        "stop_words.update(stopwords.words('english'))"
      ],
      "metadata": {
        "id": "8HgHFDpTlkVi"
      },
      "execution_count": 94,
      "outputs": []
    },
    {
      "cell_type": "markdown",
      "source": [
        "Define the function that removes punctuation, numbers, and stopwords along with lemmatization (to preserve the base words)."
      ],
      "metadata": {
        "id": "0fVlLDmtol-B"
      }
    },
    {
      "cell_type": "code",
      "source": [
        "def clean(doc):\n",
        "  all_words_clean = []\n",
        "  for word in doc:\n",
        "      # remove stopwords and number\n",
        "      if word not in stop_words:\n",
        "          # remove punctuation\n",
        "          punc_free = ''.join([ch for ch in word if ch not in string.punctuation])\n",
        "          if len(punc_free)>=2 and not punc_free.isdigit():\n",
        "              # stem word to root word\n",
        "              all_words_clean.append(lem.lemmatize(punc_free,\"v\"))\n",
        "  return all_words_clean"
      ],
      "metadata": {
        "id": "ZfdwNRKWldaF"
      },
      "execution_count": 95,
      "outputs": []
    },
    {
      "cell_type": "markdown",
      "source": [
        "Item Name"
      ],
      "metadata": {
        "id": "pFZGvJQzlLDJ"
      }
    },
    {
      "cell_type": "code",
      "source": [
        "#Create a new list of words by removing stopwords and punctuation from all_words\n",
        "df['item_name'] = df['item_name'].apply(lambda x: clean(x)) \n",
        "\n",
        "all_name_words_clean = [word for sent in df['item_name'] for word in sent]"
      ],
      "metadata": {
        "id": "hljHt5i9ZxnT"
      },
      "execution_count": 96,
      "outputs": []
    },
    {
      "cell_type": "code",
      "source": [
        "# calculate the number of occurence of each word in the entire list of words\n",
        "all_name_words_frequency = FreqDist(all_name_words_clean)\n",
        "print (all_name_words_frequency)\n",
        "\n",
        "# print 10 most frequently occurring words\n",
        "print (\"\\nTop 10 most frequently occurring words\")\n",
        "print (all_name_words_frequency.most_common(10))\n",
        "\n",
        "# print 10 least frequently occurring words\n",
        "print (\"\\nTop 10 least frequently occurring words\")\n",
        "print (all_name_words_frequency.most_common()[-10:])"
      ],
      "metadata": {
        "colab": {
          "base_uri": "https://localhost:8080/",
          "height": 0
        },
        "id": "EVV0beVdkm5U",
        "outputId": "c8a087dd-c0e7-4694-9b08-3ab70a791c58"
      },
      "execution_count": 97,
      "outputs": [
        {
          "output_type": "stream",
          "name": "stdout",
          "text": [
            "<FreqDist with 1045 samples and 12149 outcomes>\n",
            "\n",
            "Top 10 most frequently occurring words\n",
            "[('maybelline', 678), ('etude', 525), ('house', 415), ('bb', 355), ('powder', 304), ('cushion', 290), ('bioaqua', 285), ('matte', 269), ('foundation', 228), ('tint', 223)]\n",
            "\n",
            "Top 10 least frequently occurring words\n",
            "[('promatte', 1), ('loreal', 1), ('50g', 1), ('expressã\\x82â®', 1), ('shotã¢â\\x84â¢', 1), ('washable', 1), ('pot', 1), ('violet', 1), ('qd04', 1), ('us', 1)]\n"
          ]
        }
      ]
    },
    {
      "cell_type": "code",
      "source": [
        "plot_frequency(all_name_words_frequency)"
      ],
      "metadata": {
        "colab": {
          "base_uri": "https://localhost:8080/",
          "height": 381
        },
        "id": "FdBBdOpCrzYL",
        "outputId": "2632250c-eea3-40e8-8f17-56cccac2e887"
      },
      "execution_count": 100,
      "outputs": [
        {
          "output_type": "display_data",
          "data": {
            "text/plain": [
              "<Figure size 720x360 with 1 Axes>"
            ],
            "image/png": "[encoded data removed]"
          },
          "metadata": {
            "needs_background": "light"
          }
        }
      ]
    },
    {
      "cell_type": "markdown",
      "source": [
        "Description"
      ],
      "metadata": {
        "id": "WaVSk77ulO3n"
      }
    },
    {
      "cell_type": "code",
      "source": [
        "#Create a new list of words by removing stopwords and punctuation from all_words\n",
        "df['description'] = df['description'].apply(lambda x: clean(x)) \n",
        "all_description_words_clean =  [word for sent in df['description'] for word in sent]"
      ],
      "metadata": {
        "id": "94rvnUVjkITN"
      },
      "execution_count": 98,
      "outputs": []
    },
    {
      "cell_type": "code",
      "source": [
        "# calculate the number of occurence of each word in the entire list of words\n",
        "all_description_words_frequency = FreqDist(all_description_words_clean)\n",
        "print (all_description_words_frequency)\n",
        "\n",
        "# print 10 most frequently occurring words\n",
        "print (\"\\nTop 10 most frequently occurring words\")\n",
        "print (all_description_words_frequency.most_common(10))\n",
        "\n",
        "# print 10 least frequently occurring words\n",
        "print (\"\\nTop 10 least frequently occurring words\")\n",
        "print (all_description_words_frequency.most_common()[-10:])"
      ],
      "metadata": {
        "colab": {
          "base_uri": "https://localhost:8080/",
          "height": 0
        },
        "id": "ndJAvtNvkncr",
        "outputId": "81f92512-96e6-4949-904e-ede492e2db1b"
      },
      "execution_count": 99,
      "outputs": [
        {
          "output_type": "stream",
          "name": "stdout",
          "text": [
            "<FreqDist with 9988 samples and 105615 outcomes>\n",
            "\n",
            "Top 10 most frequently occurring words\n",
            "[('kulit', 1579), ('warna', 1234), ('matte', 857), ('natural', 808), ('wajah', 770), ('bb', 769), ('skin', 752), ('cushion', 722), ('powder', 706), ('maybelline', 686)]\n",
            "\n",
            "Top 10 least frequently occurring words\n",
            "[('ã°â\\x9fâ\\x94â\\x8ecek', 1), ('konfirm', 1), ('dicantumkan', 1), ('meringankan', 1), ('pulih', 1), ('ketidaknyamanan', 1), ('ã°â\\x9fâ\\x92â¡bisa', 1), ('ã°â\\x9fâ\\x92â¡cek', 1), ('ã°â\\x9fâ\\x92â¡info', 1), ('lipmoisturizer', 1)]\n"
          ]
        }
      ]
    },
    {
      "cell_type": "code",
      "source": [
        "plot_frequency(all_description_words_frequency)"
      ],
      "metadata": {
        "colab": {
          "base_uri": "https://localhost:8080/",
          "height": 379
        },
        "id": "mPcKuc-7r0D6",
        "outputId": "89baca3a-4e6b-41b8-b989-bc09fd83c1e7"
      },
      "execution_count": 101,
      "outputs": [
        {
          "output_type": "display_data",
          "data": {
            "text/plain": [
              "<Figure size 720x360 with 1 Axes>"
            ],
            "image/png": "[encoded data removed]"
          },
          "metadata": {
            "needs_background": "light"
          }
        }
      ]
    },
    {
      "cell_type": "markdown",
      "source": [
        "### 2.2 Common Word Removal<a name='removecommonwords'></a>"
      ],
      "metadata": {
        "id": "S02oXdw_W9ie"
      }
    },
    {
      "cell_type": "code",
      "source": [
        "#add common words to stop words\n",
        "common_words =['maybelline', 'etude', 'house', 'kulit', 'warna']\n",
        "stop_words.update(common_words)"
      ],
      "metadata": {
        "id": "VMPLFLsmZyGh"
      },
      "execution_count": 102,
      "outputs": []
    },
    {
      "cell_type": "code",
      "source": [
        "#Create a new list of words by removing stopwords and punctuation from all_words\n",
        "df['item_name'] = df['item_name'].apply(lambda x: clean(x)) \n",
        "\n",
        "all_name_words_clean = [word for sent in df['item_name'] for word in sent]"
      ],
      "metadata": {
        "id": "TFrAs09nsTrR"
      },
      "execution_count": 103,
      "outputs": []
    },
    {
      "cell_type": "code",
      "source": [
        "# calculate the number of occurence of each word in the entire list of words\n",
        "all_name_words_frequency = FreqDist(all_name_words_clean)\n",
        "print (all_name_words_frequency)\n",
        "\n",
        "# print 10 most frequently occurring words\n",
        "print (\"\\nTop 10 most frequently occurring words\")\n",
        "print (all_name_words_frequency.most_common(10))\n",
        "\n",
        "# print 10 least frequently occurring words\n",
        "print (\"\\nTop 10 least frequently occurring words\")\n",
        "print (all_name_words_frequency.most_common()[-10:])"
      ],
      "metadata": {
        "colab": {
          "base_uri": "https://localhost:8080/",
          "height": 0
        },
        "outputId": "90a7742b-1c0b-4bbe-8667-11738515c242",
        "id": "JY-d4Sp2sTrT"
      },
      "execution_count": 104,
      "outputs": [
        {
          "output_type": "stream",
          "name": "stdout",
          "text": [
            "<FreqDist with 1039 samples and 10522 outcomes>\n",
            "\n",
            "Top 10 most frequently occurring words\n",
            "[('bb', 355), ('powder', 304), ('cushion', 290), ('bioaqua', 285), ('matte', 269), ('foundation', 228), ('tint', 223), ('original', 208), ('cream', 191), ('color', 176)]\n",
            "\n",
            "Top 10 least frequently occurring words\n",
            "[('promatte', 1), ('loreal', 1), ('50g', 1), ('expressã\\x82â®', 1), ('shotã¢â\\x84â¢', 1), ('washable', 1), ('pot', 1), ('violet', 1), ('qd04', 1), ('us', 1)]\n"
          ]
        }
      ]
    },
    {
      "cell_type": "code",
      "source": [
        "plot_frequency(all_name_words_frequency)"
      ],
      "metadata": {
        "colab": {
          "base_uri": "https://localhost:8080/",
          "height": 381
        },
        "outputId": "3f1020fe-9a83-48b0-b030-af20acee8fd7",
        "id": "j1zq6GG3sTrT"
      },
      "execution_count": 105,
      "outputs": [
        {
          "output_type": "display_data",
          "data": {
            "text/plain": [
              "<Figure size 720x360 with 1 Axes>"
            ],
            "image/png": "[encoded data removed]"
          },
          "metadata": {
            "needs_background": "light"
          }
        }
      ]
    },
    {
      "cell_type": "markdown",
      "source": [
        "Description"
      ],
      "metadata": {
        "id": "6m7HFVVvsTrU"
      }
    },
    {
      "cell_type": "code",
      "source": [
        "#Create a new list of words by removing stopwords and punctuation from all_words\n",
        "df['description'] = df['description'].apply(lambda x: clean(x)) \n",
        "all_description_words_clean =  [word for sent in df['description'] for word in sent]"
      ],
      "metadata": {
        "id": "soSTo8WcsTrV"
      },
      "execution_count": 106,
      "outputs": []
    },
    {
      "cell_type": "code",
      "source": [
        "# calculate the number of occurence of each word in the entire list of words\n",
        "all_description_words_frequency = FreqDist(all_description_words_clean)\n",
        "print (all_description_words_frequency)\n",
        "\n",
        "# print 10 most frequently occurring words\n",
        "print (\"\\nTop 10 most frequently occurring words\")\n",
        "print (all_description_words_frequency.most_common(10))\n",
        "\n",
        "# print 10 least frequently occurring words\n",
        "print (\"\\nTop 10 least frequently occurring words\")\n",
        "print (all_description_words_frequency.most_common()[-10:])"
      ],
      "metadata": {
        "colab": {
          "base_uri": "https://localhost:8080/",
          "height": 0
        },
        "outputId": "dac3eca5-8245-4990-a5b1-9342885bd3e4",
        "id": "hWm9K765sTrV"
      },
      "execution_count": 107,
      "outputs": [
        {
          "output_type": "stream",
          "name": "stdout",
          "text": [
            "<FreqDist with 9951 samples and 101208 outcomes>\n",
            "\n",
            "Top 10 most frequently occurring words\n",
            "[('matte', 857), ('natural', 808), ('wajah', 770), ('bb', 769), ('skin', 752), ('cushion', 722), ('powder', 706), ('hasil', 662), ('red', 649), ('ready', 582)]\n",
            "\n",
            "Top 10 least frequently occurring words\n",
            "[('ã°â\\x9fâ\\x94â\\x8ecek', 1), ('konfirm', 1), ('dicantumkan', 1), ('meringankan', 1), ('pulih', 1), ('ketidaknyamanan', 1), ('ã°â\\x9fâ\\x92â¡bisa', 1), ('ã°â\\x9fâ\\x92â¡cek', 1), ('ã°â\\x9fâ\\x92â¡info', 1), ('lipmoisturizer', 1)]\n"
          ]
        }
      ]
    },
    {
      "cell_type": "code",
      "source": [
        "plot_frequency(all_description_words_frequency)"
      ],
      "metadata": {
        "colab": {
          "base_uri": "https://localhost:8080/",
          "height": 378
        },
        "outputId": "095ea8a6-fef3-4a5b-dc8b-a1f9ff15f399",
        "id": "DggabDd_sTrX"
      },
      "execution_count": 108,
      "outputs": [
        {
          "output_type": "display_data",
          "data": {
            "text/plain": [
              "<Figure size 720x360 with 1 Axes>"
            ],
            "image/png": "[encoded data removed]"
          },
          "metadata": {
            "needs_background": "light"
          }
        }
      ]
    },
    {
      "cell_type": "markdown",
      "metadata": {
        "id": "5EOm4RFvTIAy"
      },
      "source": [
        "## 3. Modelling<a name='modelling'></a> \n",
        "Perform the necessary steps and explain the rationale taken here.\n",
        "\n"
      ]
    },
    {
      "cell_type": "markdown",
      "source": [
        "### 3.1 Data Representations<a name='datarepresentation'></a>"
      ],
      "metadata": {
        "id": "NJL-3ZsSv4Fr"
      }
    },
    {
      "cell_type": "markdown",
      "source": [
        "#### 3.1.1 Generate Vector Space Model using TF-IDF<a name='tfidf'></a>"
      ],
      "metadata": {
        "id": "9OHUtvNRumOU"
      }
    },
    {
      "cell_type": "code",
      "source": [
        "df['Processed_item_name'] = df['item_name'].apply(lambda x: \" \".join(x))  \n",
        "df['Processed_description'] = df['description'].apply(lambda x: \" \".join(x))  "
      ],
      "metadata": {
        "id": "4maXTbehsgap"
      },
      "execution_count": 110,
      "outputs": []
    },
    {
      "cell_type": "code",
      "execution_count": 111,
      "metadata": {
        "id": "J65IfG9HTIAz",
        "colab": {
          "base_uri": "https://localhost:8080/",
          "height": 206
        },
        "outputId": "4473bb4d-c9cc-4d7f-9968-a10bf4e03a52"
      },
      "outputs": [
        {
          "output_type": "execute_result",
          "data": {
            "text/plain": [
              "   item_id              item_name image_name  \\\n",
              "0        1  [draw, eye, brow, ad]      1.jpg   \n",
              "1        2        [draw, eyebrow]      2.jpg   \n",
              "2        3   [new, draw, eyebrow]      3.jpg   \n",
              "3        4  [draw, eye, brow, ad]      4.jpg   \n",
              "4        5          [color, brow]      5.jpg   \n",
              "\n",
              "                                         description category  \\\n",
              "0  [ready, eyebrow, note, tuliskan, keterangan, i...      Eye   \n",
              "1  [ready, jgn, tnya, ya, kualitas, adu, toko, se...      Eye   \n",
              "2  [barang, ori, ya, harga, jg, nett, option, dar...      Eye   \n",
              "3  [qty, pm, aja, ya, atc, alasan, apapun, pembat...      Eye   \n",
              "4  [color, brow, tahan, alis, spt, disulam, ready...      Eye   \n",
              "\n",
              "  Processed_item_name                              Processed_description  \n",
              "0    draw eye brow ad  ready eyebrow note tuliskan keterangan item di...  \n",
              "1        draw eyebrow  ready jgn tnya ya kualitas adu toko sebelah 01...  \n",
              "2    new draw eyebrow  barang ori ya harga jg nett option dark brown ...  \n",
              "3    draw eye brow ad  qty pm aja ya atc alasan apapun pembatalan kir...  \n",
              "4          color brow  color brow tahan alis spt disulam ready rich b...  "
            ],
            "text/html": [
              "\n",
              "  <div id=\"df-df1d4a8c-7e8f-425d-bc6f-bf4f573ed85f\">\n",
              "    <div class=\"colab-df-container\">\n",
              "      <div>\n",
              "<style scoped>\n",
              "    .dataframe tbody tr th:only-of-type {\n",
              "        vertical-align: middle;\n",
              "    }\n",
              "\n",
              "    .dataframe tbody tr th {\n",
              "        vertical-align: top;\n",
              "    }\n",
              "\n",
              "    .dataframe thead th {\n",
              "        text-align: right;\n",
              "    }\n",
              "</style>\n",
              "<table border=\"1\" class=\"dataframe\">\n",
              "  <thead>\n",
              "    <tr style=\"text-align: right;\">\n",
              "      <th></th>\n",
              "      <th>item_id</th>\n",
              "      <th>item_name</th>\n",
              "      <th>image_name</th>\n",
              "      <th>description</th>\n",
              "      <th>category</th>\n",
              "      <th>Processed_item_name</th>\n",
              "      <th>Processed_description</th>\n",
              "    </tr>\n",
              "  </thead>\n",
              "  <tbody>\n",
              "    <tr>\n",
              "      <th>0</th>\n",
              "      <td>1</td>\n",
              "      <td>[draw, eye, brow, ad]</td>\n",
              "      <td>1.jpg</td>\n",
              "      <td>[ready, eyebrow, note, tuliskan, keterangan, i...</td>\n",
              "      <td>Eye</td>\n",
              "      <td>draw eye brow ad</td>\n",
              "      <td>ready eyebrow note tuliskan keterangan item di...</td>\n",
              "    </tr>\n",
              "    <tr>\n",
              "      <th>1</th>\n",
              "      <td>2</td>\n",
              "      <td>[draw, eyebrow]</td>\n",
              "      <td>2.jpg</td>\n",
              "      <td>[ready, jgn, tnya, ya, kualitas, adu, toko, se...</td>\n",
              "      <td>Eye</td>\n",
              "      <td>draw eyebrow</td>\n",
              "      <td>ready jgn tnya ya kualitas adu toko sebelah 01...</td>\n",
              "    </tr>\n",
              "    <tr>\n",
              "      <th>2</th>\n",
              "      <td>3</td>\n",
              "      <td>[new, draw, eyebrow]</td>\n",
              "      <td>3.jpg</td>\n",
              "      <td>[barang, ori, ya, harga, jg, nett, option, dar...</td>\n",
              "      <td>Eye</td>\n",
              "      <td>new draw eyebrow</td>\n",
              "      <td>barang ori ya harga jg nett option dark brown ...</td>\n",
              "    </tr>\n",
              "    <tr>\n",
              "      <th>3</th>\n",
              "      <td>4</td>\n",
              "      <td>[draw, eye, brow, ad]</td>\n",
              "      <td>4.jpg</td>\n",
              "      <td>[qty, pm, aja, ya, atc, alasan, apapun, pembat...</td>\n",
              "      <td>Eye</td>\n",
              "      <td>draw eye brow ad</td>\n",
              "      <td>qty pm aja ya atc alasan apapun pembatalan kir...</td>\n",
              "    </tr>\n",
              "    <tr>\n",
              "      <th>4</th>\n",
              "      <td>5</td>\n",
              "      <td>[color, brow]</td>\n",
              "      <td>5.jpg</td>\n",
              "      <td>[color, brow, tahan, alis, spt, disulam, ready...</td>\n",
              "      <td>Eye</td>\n",
              "      <td>color brow</td>\n",
              "      <td>color brow tahan alis spt disulam ready rich b...</td>\n",
              "    </tr>\n",
              "  </tbody>\n",
              "</table>\n",
              "</div>\n",
              "      <button class=\"colab-df-convert\" onclick=\"convertToInteractive('df-df1d4a8c-7e8f-425d-bc6f-bf4f573ed85f')\"\n",
              "              title=\"Convert this dataframe to an interactive table.\"\n",
              "              style=\"display:none;\">\n",
              "        \n",
              "  <svg xmlns=\"http://www.w3.org/2000/svg\" height=\"24px\"viewBox=\"0 0 24 24\"\n",
              "       width=\"24px\">\n",
              "    <path d=\"M0 0h24v24H0V0z\" fill=\"none\"/>\n",
              "    <path d=\"M18.56 5.44l.94 2.06.94-2.06 2.06-.94-2.06-.94-.94-2.06-.94 2.06-2.06.94zm-11 1L8.5 8.5l.94-2.06 2.06-.94-2.06-.94L8.5 2.5l-.94 2.06-2.06.94zm10 10l.94 2.06.94-2.06 2.06-.94-2.06-.94-.94-2.06-.94 2.06-2.06.94z\"/><path d=\"M17.41 7.96l-1.37-1.37c-.4-.4-.92-.59-1.43-.59-.52 0-1.04.2-1.43.59L10.3 9.45l-7.72 7.72c-.78.78-.78 2.05 0 2.83L4 21.41c.39.39.9.59 1.41.59.51 0 1.02-.2 1.41-.59l7.78-7.78 2.81-2.81c.8-.78.8-2.07 0-2.86zM5.41 20L4 18.59l7.72-7.72 1.47 1.35L5.41 20z\"/>\n",
              "  </svg>\n",
              "      </button>\n",
              "      \n",
              "  <style>\n",
              "    .colab-df-container {\n",
              "      display:flex;\n",
              "      flex-wrap:wrap;\n",
              "      gap: 12px;\n",
              "    }\n",
              "\n",
              "    .colab-df-convert {\n",
              "      background-color: #E8F0FE;\n",
              "      border: none;\n",
              "      border-radius: 50%;\n",
              "      cursor: pointer;\n",
              "      display: none;\n",
              "      fill: #1967D2;\n",
              "      height: 32px;\n",
              "      padding: 0 0 0 0;\n",
              "      width: 32px;\n",
              "    }\n",
              "\n",
              "    .colab-df-convert:hover {\n",
              "      background-color: #E2EBFA;\n",
              "      box-shadow: 0px 1px 2px rgba(60, 64, 67, 0.3), 0px 1px 3px 1px rgba(60, 64, 67, 0.15);\n",
              "      fill: #174EA6;\n",
              "    }\n",
              "\n",
              "    [theme=dark] .colab-df-convert {\n",
              "      background-color: #3B4455;\n",
              "      fill: #D2E3FC;\n",
              "    }\n",
              "\n",
              "    [theme=dark] .colab-df-convert:hover {\n",
              "      background-color: #434B5C;\n",
              "      box-shadow: 0px 1px 3px 1px rgba(0, 0, 0, 0.15);\n",
              "      filter: drop-shadow(0px 1px 2px rgba(0, 0, 0, 0.3));\n",
              "      fill: #FFFFFF;\n",
              "    }\n",
              "  </style>\n",
              "\n",
              "      <script>\n",
              "        const buttonEl =\n",
              "          document.querySelector('#df-df1d4a8c-7e8f-425d-bc6f-bf4f573ed85f button.colab-df-convert');\n",
              "        buttonEl.style.display =\n",
              "          google.colab.kernel.accessAllowed ? 'block' : 'none';\n",
              "\n",
              "        async function convertToInteractive(key) {\n",
              "          const element = document.querySelector('#df-df1d4a8c-7e8f-425d-bc6f-bf4f573ed85f');\n",
              "          const dataTable =\n",
              "            await google.colab.kernel.invokeFunction('convertToInteractive',\n",
              "                                                     [key], {});\n",
              "          if (!dataTable) return;\n",
              "\n",
              "          const docLinkHtml = 'Like what you see? Visit the ' +\n",
              "            '<a target=\"_blank\" href=https://colab.research.google.com/notebooks/data_table.ipynb>data table notebook</a>'\n",
              "            + ' to learn more about interactive tables.';\n",
              "          element.innerHTML = '';\n",
              "          dataTable['output_type'] = 'display_data';\n",
              "          await google.colab.output.renderOutput(dataTable, element);\n",
              "          const docLink = document.createElement('div');\n",
              "          docLink.innerHTML = docLinkHtml;\n",
              "          element.appendChild(docLink);\n",
              "        }\n",
              "      </script>\n",
              "    </div>\n",
              "  </div>\n",
              "  "
            ]
          },
          "metadata": {},
          "execution_count": 111
        }
      ],
      "source": [
        "df.head()"
      ]
    },
    {
      "cell_type": "markdown",
      "source": [
        "Item name"
      ],
      "metadata": {
        "id": "p4adMVmG4lWI"
      }
    },
    {
      "cell_type": "code",
      "source": [
        "vectorizer_item_name = TfidfVectorizer(min_df = 1, stop_words = stop_words)\n",
        "dtm_item_name = vectorizer_item_name.fit_transform(df['Processed_item_name'])\n",
        "\n",
        "tfidf_name_features = pd.DataFrame(dtm_item_name.toarray(),index=df.index,columns=vectorizer_item_name.get_feature_names())\n",
        "print(len(vectorizer_item_name.get_feature_names()))\n",
        "tfidf_name_features.head()"
      ],
      "metadata": {
        "colab": {
          "base_uri": "https://localhost:8080/",
          "height": 308
        },
        "id": "YqcF6Nt0ssEt",
        "outputId": "00ac1474-1333-4155-dc3f-26379304e75d"
      },
      "execution_count": 125,
      "outputs": [
        {
          "output_type": "stream",
          "name": "stdout",
          "text": [
            "1023\n"
          ]
        },
        {
          "output_type": "stream",
          "name": "stderr",
          "text": [
            "/usr/local/lib/python3.8/dist-packages/sklearn/feature_extraction/text.py:396: UserWarning: Your stop_words may be inconsistent with your preprocessing. Tokenizing the stop words generated tokens ['baiknya', 'berkali', 'kali', 'kurangnya', 'mata', 'olah', 'sekurang', 'setidak', 'tama', 'tidaknya'] not in stop_words.\n",
            "  warnings.warn(\n"
          ]
        },
        {
          "output_type": "execute_result",
          "data": {
            "text/plain": [
              "   008gr  025g  025gr  03g  10gr  10ml  12gr  12pcs  12th  14g  ...  wrap  \\\n",
              "0    0.0   0.0    0.0  0.0   0.0   0.0   0.0    0.0   0.0  0.0  ...   0.0   \n",
              "1    0.0   0.0    0.0  0.0   0.0   0.0   0.0    0.0   0.0  0.0  ...   0.0   \n",
              "2    0.0   0.0    0.0  0.0   0.0   0.0   0.0    0.0   0.0  0.0  ...   0.0   \n",
              "3    0.0   0.0    0.0  0.0   0.0   0.0   0.0    0.0   0.0  0.0  ...   0.0   \n",
              "4    0.0   0.0    0.0  0.0   0.0   0.0   0.0    0.0   0.0  0.0  ...   0.0   \n",
              "\n",
              "   wrna  wyatt   xu   ya  yellow  york  yuenai  zero   â¹  \n",
              "0   0.0    0.0  0.0  0.0     0.0   0.0     0.0   0.0  0.0  \n",
              "1   0.0    0.0  0.0  0.0     0.0   0.0     0.0   0.0  0.0  \n",
              "2   0.0    0.0  0.0  0.0     0.0   0.0     0.0   0.0  0.0  \n",
              "3   0.0    0.0  0.0  0.0     0.0   0.0     0.0   0.0  0.0  \n",
              "4   0.0    0.0  0.0  0.0     0.0   0.0     0.0   0.0  0.0  \n",
              "\n",
              "[5 rows x 1023 columns]"
            ],
            "text/html": [
              "\n",
              "  <div id=\"df-bee6fa39-7b50-4f2b-9901-df03fd522172\">\n",
              "    <div class=\"colab-df-container\">\n",
              "      <div>\n",
              "<style scoped>\n",
              "    .dataframe tbody tr th:only-of-type {\n",
              "        vertical-align: middle;\n",
              "    }\n",
              "\n",
              "    .dataframe tbody tr th {\n",
              "        vertical-align: top;\n",
              "    }\n",
              "\n",
              "    .dataframe thead th {\n",
              "        text-align: right;\n",
              "    }\n",
              "</style>\n",
              "<table border=\"1\" class=\"dataframe\">\n",
              "  <thead>\n",
              "    <tr style=\"text-align: right;\">\n",
              "      <th></th>\n",
              "      <th>008gr</th>\n",
              "      <th>025g</th>\n",
              "      <th>025gr</th>\n",
              "      <th>03g</th>\n",
              "      <th>10gr</th>\n",
              "      <th>10ml</th>\n",
              "      <th>12gr</th>\n",
              "      <th>12pcs</th>\n",
              "      <th>12th</th>\n",
              "      <th>14g</th>\n",
              "      <th>...</th>\n",
              "      <th>wrap</th>\n",
              "      <th>wrna</th>\n",
              "      <th>wyatt</th>\n",
              "      <th>xu</th>\n",
              "      <th>ya</th>\n",
              "      <th>yellow</th>\n",
              "      <th>york</th>\n",
              "      <th>yuenai</th>\n",
              "      <th>zero</th>\n",
              "      <th>â¹</th>\n",
              "    </tr>\n",
              "  </thead>\n",
              "  <tbody>\n",
              "    <tr>\n",
              "      <th>0</th>\n",
              "      <td>0.0</td>\n",
              "      <td>0.0</td>\n",
              "      <td>0.0</td>\n",
              "      <td>0.0</td>\n",
              "      <td>0.0</td>\n",
              "      <td>0.0</td>\n",
              "      <td>0.0</td>\n",
              "      <td>0.0</td>\n",
              "      <td>0.0</td>\n",
              "      <td>0.0</td>\n",
              "      <td>...</td>\n",
              "      <td>0.0</td>\n",
              "      <td>0.0</td>\n",
              "      <td>0.0</td>\n",
              "      <td>0.0</td>\n",
              "      <td>0.0</td>\n",
              "      <td>0.0</td>\n",
              "      <td>0.0</td>\n",
              "      <td>0.0</td>\n",
              "      <td>0.0</td>\n",
              "      <td>0.0</td>\n",
              "    </tr>\n",
              "    <tr>\n",
              "      <th>1</th>\n",
              "      <td>0.0</td>\n",
              "      <td>0.0</td>\n",
              "      <td>0.0</td>\n",
              "      <td>0.0</td>\n",
              "      <td>0.0</td>\n",
              "      <td>0.0</td>\n",
              "      <td>0.0</td>\n",
              "      <td>0.0</td>\n",
              "      <td>0.0</td>\n",
              "      <td>0.0</td>\n",
              "      <td>...</td>\n",
              "      <td>0.0</td>\n",
              "      <td>0.0</td>\n",
              "      <td>0.0</td>\n",
              "      <td>0.0</td>\n",
              "      <td>0.0</td>\n",
              "      <td>0.0</td>\n",
              "      <td>0.0</td>\n",
              "      <td>0.0</td>\n",
              "      <td>0.0</td>\n",
              "      <td>0.0</td>\n",
              "    </tr>\n",
              "    <tr>\n",
              "      <th>2</th>\n",
              "      <td>0.0</td>\n",
              "      <td>0.0</td>\n",
              "      <td>0.0</td>\n",
              "      <td>0.0</td>\n",
              "      <td>0.0</td>\n",
              "      <td>0.0</td>\n",
              "      <td>0.0</td>\n",
              "      <td>0.0</td>\n",
              "      <td>0.0</td>\n",
              "      <td>0.0</td>\n",
              "      <td>...</td>\n",
              "      <td>0.0</td>\n",
              "      <td>0.0</td>\n",
              "      <td>0.0</td>\n",
              "      <td>0.0</td>\n",
              "      <td>0.0</td>\n",
              "      <td>0.0</td>\n",
              "      <td>0.0</td>\n",
              "      <td>0.0</td>\n",
              "      <td>0.0</td>\n",
              "      <td>0.0</td>\n",
              "    </tr>\n",
              "    <tr>\n",
              "      <th>3</th>\n",
              "      <td>0.0</td>\n",
              "      <td>0.0</td>\n",
              "      <td>0.0</td>\n",
              "      <td>0.0</td>\n",
              "      <td>0.0</td>\n",
              "      <td>0.0</td>\n",
              "      <td>0.0</td>\n",
              "      <td>0.0</td>\n",
              "      <td>0.0</td>\n",
              "      <td>0.0</td>\n",
              "      <td>...</td>\n",
              "      <td>0.0</td>\n",
              "      <td>0.0</td>\n",
              "      <td>0.0</td>\n",
              "      <td>0.0</td>\n",
              "      <td>0.0</td>\n",
              "      <td>0.0</td>\n",
              "      <td>0.0</td>\n",
              "      <td>0.0</td>\n",
              "      <td>0.0</td>\n",
              "      <td>0.0</td>\n",
              "    </tr>\n",
              "    <tr>\n",
              "      <th>4</th>\n",
              "      <td>0.0</td>\n",
              "      <td>0.0</td>\n",
              "      <td>0.0</td>\n",
              "      <td>0.0</td>\n",
              "      <td>0.0</td>\n",
              "      <td>0.0</td>\n",
              "      <td>0.0</td>\n",
              "      <td>0.0</td>\n",
              "      <td>0.0</td>\n",
              "      <td>0.0</td>\n",
              "      <td>...</td>\n",
              "      <td>0.0</td>\n",
              "      <td>0.0</td>\n",
              "      <td>0.0</td>\n",
              "      <td>0.0</td>\n",
              "      <td>0.0</td>\n",
              "      <td>0.0</td>\n",
              "      <td>0.0</td>\n",
              "      <td>0.0</td>\n",
              "      <td>0.0</td>\n",
              "      <td>0.0</td>\n",
              "    </tr>\n",
              "  </tbody>\n",
              "</table>\n",
              "<p>5 rows × 1023 columns</p>\n",
              "</div>\n",
              "      <button class=\"colab-df-convert\" onclick=\"convertToInteractive('df-bee6fa39-7b50-4f2b-9901-df03fd522172')\"\n",
              "              title=\"Convert this dataframe to an interactive table.\"\n",
              "              style=\"display:none;\">\n",
              "        \n",
              "  <svg xmlns=\"http://www.w3.org/2000/svg\" height=\"24px\"viewBox=\"0 0 24 24\"\n",
              "       width=\"24px\">\n",
              "    <path d=\"M0 0h24v24H0V0z\" fill=\"none\"/>\n",
              "    <path d=\"M18.56 5.44l.94 2.06.94-2.06 2.06-.94-2.06-.94-.94-2.06-.94 2.06-2.06.94zm-11 1L8.5 8.5l.94-2.06 2.06-.94-2.06-.94L8.5 2.5l-.94 2.06-2.06.94zm10 10l.94 2.06.94-2.06 2.06-.94-2.06-.94-.94-2.06-.94 2.06-2.06.94z\"/><path d=\"M17.41 7.96l-1.37-1.37c-.4-.4-.92-.59-1.43-.59-.52 0-1.04.2-1.43.59L10.3 9.45l-7.72 7.72c-.78.78-.78 2.05 0 2.83L4 21.41c.39.39.9.59 1.41.59.51 0 1.02-.2 1.41-.59l7.78-7.78 2.81-2.81c.8-.78.8-2.07 0-2.86zM5.41 20L4 18.59l7.72-7.72 1.47 1.35L5.41 20z\"/>\n",
              "  </svg>\n",
              "      </button>\n",
              "      \n",
              "  <style>\n",
              "    .colab-df-container {\n",
              "      display:flex;\n",
              "      flex-wrap:wrap;\n",
              "      gap: 12px;\n",
              "    }\n",
              "\n",
              "    .colab-df-convert {\n",
              "      background-color: #E8F0FE;\n",
              "      border: none;\n",
              "      border-radius: 50%;\n",
              "      cursor: pointer;\n",
              "      display: none;\n",
              "      fill: #1967D2;\n",
              "      height: 32px;\n",
              "      padding: 0 0 0 0;\n",
              "      width: 32px;\n",
              "    }\n",
              "\n",
              "    .colab-df-convert:hover {\n",
              "      background-color: #E2EBFA;\n",
              "      box-shadow: 0px 1px 2px rgba(60, 64, 67, 0.3), 0px 1px 3px 1px rgba(60, 64, 67, 0.15);\n",
              "      fill: #174EA6;\n",
              "    }\n",
              "\n",
              "    [theme=dark] .colab-df-convert {\n",
              "      background-color: #3B4455;\n",
              "      fill: #D2E3FC;\n",
              "    }\n",
              "\n",
              "    [theme=dark] .colab-df-convert:hover {\n",
              "      background-color: #434B5C;\n",
              "      box-shadow: 0px 1px 3px 1px rgba(0, 0, 0, 0.15);\n",
              "      filter: drop-shadow(0px 1px 2px rgba(0, 0, 0, 0.3));\n",
              "      fill: #FFFFFF;\n",
              "    }\n",
              "  </style>\n",
              "\n",
              "      <script>\n",
              "        const buttonEl =\n",
              "          document.querySelector('#df-bee6fa39-7b50-4f2b-9901-df03fd522172 button.colab-df-convert');\n",
              "        buttonEl.style.display =\n",
              "          google.colab.kernel.accessAllowed ? 'block' : 'none';\n",
              "\n",
              "        async function convertToInteractive(key) {\n",
              "          const element = document.querySelector('#df-bee6fa39-7b50-4f2b-9901-df03fd522172');\n",
              "          const dataTable =\n",
              "            await google.colab.kernel.invokeFunction('convertToInteractive',\n",
              "                                                     [key], {});\n",
              "          if (!dataTable) return;\n",
              "\n",
              "          const docLinkHtml = 'Like what you see? Visit the ' +\n",
              "            '<a target=\"_blank\" href=https://colab.research.google.com/notebooks/data_table.ipynb>data table notebook</a>'\n",
              "            + ' to learn more about interactive tables.';\n",
              "          element.innerHTML = '';\n",
              "          dataTable['output_type'] = 'display_data';\n",
              "          await google.colab.output.renderOutput(dataTable, element);\n",
              "          const docLink = document.createElement('div');\n",
              "          docLink.innerHTML = docLinkHtml;\n",
              "          element.appendChild(docLink);\n",
              "        }\n",
              "      </script>\n",
              "    </div>\n",
              "  </div>\n",
              "  "
            ]
          },
          "metadata": {},
          "execution_count": 125
        }
      ]
    },
    {
      "cell_type": "markdown",
      "source": [
        "Description"
      ],
      "metadata": {
        "id": "OFouBjwE4j_p"
      }
    },
    {
      "cell_type": "code",
      "source": [
        "vectorizer_description = TfidfVectorizer(min_df = 1, stop_words = stop_words)\n",
        "dtm_description = vectorizer_description.fit_transform(df['Processed_description'])\n",
        "\n",
        "tfidf_description_features = pd.DataFrame(dtm_description.toarray(),index=df.index,columns=vectorizer_description.get_feature_names())\n",
        "print(len(vectorizer_description.get_feature_names()))\n",
        "tfidf_description_features.head()"
      ],
      "metadata": {
        "colab": {
          "base_uri": "https://localhost:8080/",
          "height": 342
        },
        "id": "DUalMZNAs2sE",
        "outputId": "38ba5f16-dfa4-4816-9a4b-19629498c401"
      },
      "execution_count": 126,
      "outputs": [
        {
          "output_type": "stream",
          "name": "stderr",
          "text": [
            "/usr/local/lib/python3.8/dist-packages/sklearn/feature_extraction/text.py:396: UserWarning: Your stop_words may be inconsistent with your preprocessing. Tokenizing the stop words generated tokens ['baiknya', 'berkali', 'kali', 'kurangnya', 'mata', 'olah', 'sekurang', 'setidak', 'tama', 'tidaknya'] not in stop_words.\n",
            "  warnings.warn(\n"
          ]
        },
        {
          "output_type": "stream",
          "name": "stdout",
          "text": [
            "9475\n"
          ]
        },
        {
          "output_type": "stream",
          "name": "stderr",
          "text": [
            "/usr/local/lib/python3.8/dist-packages/sklearn/utils/deprecation.py:87: FutureWarning: Function get_feature_names is deprecated; get_feature_names is deprecated in 1.0 and will be removed in 1.2. Please use get_feature_names_out instead.\n",
            "  warnings.warn(msg, category=FutureWarning)\n"
          ]
        },
        {
          "output_type": "execute_result",
          "data": {
            "text/plain": [
              "   001mm  005mm  008gr    01dark  01dontã  01fresh  01honey  01natural  01oh  \\\n",
              "0    0.0    0.0    0.0  0.000000      0.0      0.0      0.0        0.0   0.0   \n",
              "1    0.0    0.0    0.0  0.194863      0.0      0.0      0.0        0.0   0.0   \n",
              "2    0.0    0.0    0.0  0.000000      0.0      0.0      0.0        0.0   0.0   \n",
              "3    0.0    0.0    0.0  0.000000      0.0      0.0      0.0        0.0   0.0   \n",
              "4    0.0    0.0    0.0  0.000000      0.0      0.0      0.0        0.0   0.0   \n",
              "\n",
              "   020beige  ...  âºprodul  âºã   â¼  â¼eyeshadow  â¼originalã  â¼â  â¼ã   â½  \\\n",
              "0       0.0  ...       0.0  0.0  0.0          0.0          0.0  0.0  0.0  0.0   \n",
              "1       0.0  ...       0.0  0.0  0.0          0.0          0.0  0.0  0.0  0.0   \n",
              "2       0.0  ...       0.0  0.0  0.0          0.0          0.0  0.0  0.0  0.0   \n",
              "3       0.0  ...       0.0  0.0  0.0          0.0          0.0  0.0  0.0  0.0   \n",
              "4       0.0  ...       0.0  0.0  0.0          0.0          0.0  0.0  0.0  0.0   \n",
              "\n",
              "   â½ã  ãªâ¹â  \n",
              "0  0.0    0.0  \n",
              "1  0.0    0.0  \n",
              "2  0.0    0.0  \n",
              "3  0.0    0.0  \n",
              "4  0.0    0.0  \n",
              "\n",
              "[5 rows x 9475 columns]"
            ],
            "text/html": [
              "\n",
              "  <div id=\"df-09c2da8e-8a54-4986-9e84-a99868d571c2\">\n",
              "    <div class=\"colab-df-container\">\n",
              "      <div>\n",
              "<style scoped>\n",
              "    .dataframe tbody tr th:only-of-type {\n",
              "        vertical-align: middle;\n",
              "    }\n",
              "\n",
              "    .dataframe tbody tr th {\n",
              "        vertical-align: top;\n",
              "    }\n",
              "\n",
              "    .dataframe thead th {\n",
              "        text-align: right;\n",
              "    }\n",
              "</style>\n",
              "<table border=\"1\" class=\"dataframe\">\n",
              "  <thead>\n",
              "    <tr style=\"text-align: right;\">\n",
              "      <th></th>\n",
              "      <th>001mm</th>\n",
              "      <th>005mm</th>\n",
              "      <th>008gr</th>\n",
              "      <th>01dark</th>\n",
              "      <th>01dontã</th>\n",
              "      <th>01fresh</th>\n",
              "      <th>01honey</th>\n",
              "      <th>01natural</th>\n",
              "      <th>01oh</th>\n",
              "      <th>020beige</th>\n",
              "      <th>...</th>\n",
              "      <th>âºprodul</th>\n",
              "      <th>âºã</th>\n",
              "      <th>â¼</th>\n",
              "      <th>â¼eyeshadow</th>\n",
              "      <th>â¼originalã</th>\n",
              "      <th>â¼â</th>\n",
              "      <th>â¼ã</th>\n",
              "      <th>â½</th>\n",
              "      <th>â½ã</th>\n",
              "      <th>ãªâ¹â</th>\n",
              "    </tr>\n",
              "  </thead>\n",
              "  <tbody>\n",
              "    <tr>\n",
              "      <th>0</th>\n",
              "      <td>0.0</td>\n",
              "      <td>0.0</td>\n",
              "      <td>0.0</td>\n",
              "      <td>0.000000</td>\n",
              "      <td>0.0</td>\n",
              "      <td>0.0</td>\n",
              "      <td>0.0</td>\n",
              "      <td>0.0</td>\n",
              "      <td>0.0</td>\n",
              "      <td>0.0</td>\n",
              "      <td>...</td>\n",
              "      <td>0.0</td>\n",
              "      <td>0.0</td>\n",
              "      <td>0.0</td>\n",
              "      <td>0.0</td>\n",
              "      <td>0.0</td>\n",
              "      <td>0.0</td>\n",
              "      <td>0.0</td>\n",
              "      <td>0.0</td>\n",
              "      <td>0.0</td>\n",
              "      <td>0.0</td>\n",
              "    </tr>\n",
              "    <tr>\n",
              "      <th>1</th>\n",
              "      <td>0.0</td>\n",
              "      <td>0.0</td>\n",
              "      <td>0.0</td>\n",
              "      <td>0.194863</td>\n",
              "      <td>0.0</td>\n",
              "      <td>0.0</td>\n",
              "      <td>0.0</td>\n",
              "      <td>0.0</td>\n",
              "      <td>0.0</td>\n",
              "      <td>0.0</td>\n",
              "      <td>...</td>\n",
              "      <td>0.0</td>\n",
              "      <td>0.0</td>\n",
              "      <td>0.0</td>\n",
              "      <td>0.0</td>\n",
              "      <td>0.0</td>\n",
              "      <td>0.0</td>\n",
              "      <td>0.0</td>\n",
              "      <td>0.0</td>\n",
              "      <td>0.0</td>\n",
              "      <td>0.0</td>\n",
              "    </tr>\n",
              "    <tr>\n",
              "      <th>2</th>\n",
              "      <td>0.0</td>\n",
              "      <td>0.0</td>\n",
              "      <td>0.0</td>\n",
              "      <td>0.000000</td>\n",
              "      <td>0.0</td>\n",
              "      <td>0.0</td>\n",
              "      <td>0.0</td>\n",
              "      <td>0.0</td>\n",
              "      <td>0.0</td>\n",
              "      <td>0.0</td>\n",
              "      <td>...</td>\n",
              "      <td>0.0</td>\n",
              "      <td>0.0</td>\n",
              "      <td>0.0</td>\n",
              "      <td>0.0</td>\n",
              "      <td>0.0</td>\n",
              "      <td>0.0</td>\n",
              "      <td>0.0</td>\n",
              "      <td>0.0</td>\n",
              "      <td>0.0</td>\n",
              "      <td>0.0</td>\n",
              "    </tr>\n",
              "    <tr>\n",
              "      <th>3</th>\n",
              "      <td>0.0</td>\n",
              "      <td>0.0</td>\n",
              "      <td>0.0</td>\n",
              "      <td>0.000000</td>\n",
              "      <td>0.0</td>\n",
              "      <td>0.0</td>\n",
              "      <td>0.0</td>\n",
              "      <td>0.0</td>\n",
              "      <td>0.0</td>\n",
              "      <td>0.0</td>\n",
              "      <td>...</td>\n",
              "      <td>0.0</td>\n",
              "      <td>0.0</td>\n",
              "      <td>0.0</td>\n",
              "      <td>0.0</td>\n",
              "      <td>0.0</td>\n",
              "      <td>0.0</td>\n",
              "      <td>0.0</td>\n",
              "      <td>0.0</td>\n",
              "      <td>0.0</td>\n",
              "      <td>0.0</td>\n",
              "    </tr>\n",
              "    <tr>\n",
              "      <th>4</th>\n",
              "      <td>0.0</td>\n",
              "      <td>0.0</td>\n",
              "      <td>0.0</td>\n",
              "      <td>0.000000</td>\n",
              "      <td>0.0</td>\n",
              "      <td>0.0</td>\n",
              "      <td>0.0</td>\n",
              "      <td>0.0</td>\n",
              "      <td>0.0</td>\n",
              "      <td>0.0</td>\n",
              "      <td>...</td>\n",
              "      <td>0.0</td>\n",
              "      <td>0.0</td>\n",
              "      <td>0.0</td>\n",
              "      <td>0.0</td>\n",
              "      <td>0.0</td>\n",
              "      <td>0.0</td>\n",
              "      <td>0.0</td>\n",
              "      <td>0.0</td>\n",
              "      <td>0.0</td>\n",
              "      <td>0.0</td>\n",
              "    </tr>\n",
              "  </tbody>\n",
              "</table>\n",
              "<p>5 rows × 9475 columns</p>\n",
              "</div>\n",
              "      <button class=\"colab-df-convert\" onclick=\"convertToInteractive('df-09c2da8e-8a54-4986-9e84-a99868d571c2')\"\n",
              "              title=\"Convert this dataframe to an interactive table.\"\n",
              "              style=\"display:none;\">\n",
              "        \n",
              "  <svg xmlns=\"http://www.w3.org/2000/svg\" height=\"24px\"viewBox=\"0 0 24 24\"\n",
              "       width=\"24px\">\n",
              "    <path d=\"M0 0h24v24H0V0z\" fill=\"none\"/>\n",
              "    <path d=\"M18.56 5.44l.94 2.06.94-2.06 2.06-.94-2.06-.94-.94-2.06-.94 2.06-2.06.94zm-11 1L8.5 8.5l.94-2.06 2.06-.94-2.06-.94L8.5 2.5l-.94 2.06-2.06.94zm10 10l.94 2.06.94-2.06 2.06-.94-2.06-.94-.94-2.06-.94 2.06-2.06.94z\"/><path d=\"M17.41 7.96l-1.37-1.37c-.4-.4-.92-.59-1.43-.59-.52 0-1.04.2-1.43.59L10.3 9.45l-7.72 7.72c-.78.78-.78 2.05 0 2.83L4 21.41c.39.39.9.59 1.41.59.51 0 1.02-.2 1.41-.59l7.78-7.78 2.81-2.81c.8-.78.8-2.07 0-2.86zM5.41 20L4 18.59l7.72-7.72 1.47 1.35L5.41 20z\"/>\n",
              "  </svg>\n",
              "      </button>\n",
              "      \n",
              "  <style>\n",
              "    .colab-df-container {\n",
              "      display:flex;\n",
              "      flex-wrap:wrap;\n",
              "      gap: 12px;\n",
              "    }\n",
              "\n",
              "    .colab-df-convert {\n",
              "      background-color: #E8F0FE;\n",
              "      border: none;\n",
              "      border-radius: 50%;\n",
              "      cursor: pointer;\n",
              "      display: none;\n",
              "      fill: #1967D2;\n",
              "      height: 32px;\n",
              "      padding: 0 0 0 0;\n",
              "      width: 32px;\n",
              "    }\n",
              "\n",
              "    .colab-df-convert:hover {\n",
              "      background-color: #E2EBFA;\n",
              "      box-shadow: 0px 1px 2px rgba(60, 64, 67, 0.3), 0px 1px 3px 1px rgba(60, 64, 67, 0.15);\n",
              "      fill: #174EA6;\n",
              "    }\n",
              "\n",
              "    [theme=dark] .colab-df-convert {\n",
              "      background-color: #3B4455;\n",
              "      fill: #D2E3FC;\n",
              "    }\n",
              "\n",
              "    [theme=dark] .colab-df-convert:hover {\n",
              "      background-color: #434B5C;\n",
              "      box-shadow: 0px 1px 3px 1px rgba(0, 0, 0, 0.15);\n",
              "      filter: drop-shadow(0px 1px 2px rgba(0, 0, 0, 0.3));\n",
              "      fill: #FFFFFF;\n",
              "    }\n",
              "  </style>\n",
              "\n",
              "      <script>\n",
              "        const buttonEl =\n",
              "          document.querySelector('#df-09c2da8e-8a54-4986-9e84-a99868d571c2 button.colab-df-convert');\n",
              "        buttonEl.style.display =\n",
              "          google.colab.kernel.accessAllowed ? 'block' : 'none';\n",
              "\n",
              "        async function convertToInteractive(key) {\n",
              "          const element = document.querySelector('#df-09c2da8e-8a54-4986-9e84-a99868d571c2');\n",
              "          const dataTable =\n",
              "            await google.colab.kernel.invokeFunction('convertToInteractive',\n",
              "                                                     [key], {});\n",
              "          if (!dataTable) return;\n",
              "\n",
              "          const docLinkHtml = 'Like what you see? Visit the ' +\n",
              "            '<a target=\"_blank\" href=https://colab.research.google.com/notebooks/data_table.ipynb>data table notebook</a>'\n",
              "            + ' to learn more about interactive tables.';\n",
              "          element.innerHTML = '';\n",
              "          dataTable['output_type'] = 'display_data';\n",
              "          await google.colab.output.renderOutput(dataTable, element);\n",
              "          const docLink = document.createElement('div');\n",
              "          docLink.innerHTML = docLinkHtml;\n",
              "          element.appendChild(docLink);\n",
              "        }\n",
              "      </script>\n",
              "    </div>\n",
              "  </div>\n",
              "  "
            ]
          },
          "metadata": {},
          "execution_count": 126
        }
      ]
    },
    {
      "cell_type": "markdown",
      "metadata": {
        "id": "ks19GXjTZJaa"
      },
      "source": [
        "### 3.2 Supervised Learning Classifiers<a name='supervised'></a> "
      ]
    },
    {
      "cell_type": "markdown",
      "metadata": {
        "id": "W-nf37F-ZJaa"
      },
      "source": [
        "I decided to try out various supervised learning classifiers because the images have been given labels (the categories). All of the following classifiers can be applied to multiclass classification."
      ]
    },
    {
      "cell_type": "markdown",
      "metadata": {
        "id": "53M1JqyTZJaa"
      },
      "source": [
        "#### 3.2.1 Logistic Regression<a name='logisticregression'></a> "
      ]
    },
    {
      "cell_type": "code",
      "execution_count": 141,
      "metadata": {
        "id": "CzcEctX9ZJaa"
      },
      "outputs": [],
      "source": [
        "lr = LogisticRegression(max_iter=5000, random_state=1, solver='lbfgs', multi_class='multinomial', n_jobs=-1)"
      ]
    },
    {
      "cell_type": "markdown",
      "metadata": {
        "id": "P8xUKZe_ZJaa"
      },
      "source": [
        "Logistic Regression that has uses a logistic sigmoid function to predict a value score for binary classification. Scikit learn provides a version of the classifier for more than two classes via their multi_class option."
      ]
    },
    {
      "cell_type": "markdown",
      "metadata": {
        "id": "Pw4Rz5OOZJaa"
      },
      "source": [
        "#### 3.2.2 Support Vector Machine<a name='svc'></a> "
      ]
    },
    {
      "cell_type": "code",
      "execution_count": 144,
      "metadata": {
        "id": "vRkxHbRXZJaa"
      },
      "outputs": [],
      "source": [
        "svc = SVC(kernel='rbf')"
      ]
    },
    {
      "cell_type": "markdown",
      "metadata": {
        "id": "PTZBHC7uadpu"
      },
      "source": [
        "Uses the concept of the kernel to adapt to the sparse yet high dimensions of the vector space model."
      ]
    },
    {
      "cell_type": "markdown",
      "metadata": {
        "id": "ZFj7zkk5ZJaa"
      },
      "source": [
        "#### 3.2.3 Naive Bayes<a name='naivebayes'></a> "
      ]
    },
    {
      "cell_type": "code",
      "execution_count": 146,
      "metadata": {
        "id": "kLPxveBGZJaa"
      },
      "outputs": [],
      "source": [
        "nb = MultinomialNB()"
      ]
    },
    {
      "cell_type": "markdown",
      "metadata": {
        "id": "wa7EqOxrZYLX"
      },
      "source": [
        "Probablistic model that assumes all the words in doc are independent. Multinomial Naive Bayes can be applied to fractional TF-IDF features."
      ]
    },
    {
      "cell_type": "markdown",
      "metadata": {
        "id": "OPoRDD2lTIAz"
      },
      "source": [
        "## 4. Evaluation\n",
        "Perform the necessary steps and explain the rationale taken here.\n",
        "\n"
      ]
    },
    {
      "cell_type": "markdown",
      "metadata": {
        "id": "SdjzxdA-ZJab"
      },
      "source": [
        "### 4.1 Multi-class Classification<a name='multiclass'></a>"
      ]
    },
    {
      "cell_type": "markdown",
      "metadata": {
        "id": "q9A3kr7YZJab"
      },
      "source": [
        "I will be doing multi-class classification. This means that the label will be predicted to be one of the given categories, which are Face, Eye, Lip."
      ]
    },
    {
      "cell_type": "code",
      "source": [
        "X_description = tfidf_description_features\n",
        "X_name = tfidf_name_features\n",
        "y = df['category']"
      ],
      "metadata": {
        "id": "w3Vbu4YSyTcB"
      },
      "execution_count": 155,
      "outputs": []
    },
    {
      "cell_type": "code",
      "execution_count": 156,
      "metadata": {
        "id": "--y2g17dZJab"
      },
      "outputs": [],
      "source": [
        "#Split into 80% Training, 20% Test\n",
        "X_description_train, X_description_test, y_train, y_test = train_test_split(X_description, y, test_size=0.2, random_state=1, stratify=y)"
      ]
    },
    {
      "cell_type": "code",
      "source": [
        "#Split into 80% Training, 20% Test\n",
        "X_name_train, X_name_test, y_train, y_test = train_test_split(X_name, y, test_size=0.2, random_state=1, stratify=y)"
      ],
      "metadata": {
        "id": "sHi-Q1Av0wwA"
      },
      "execution_count": 164,
      "outputs": []
    },
    {
      "cell_type": "markdown",
      "metadata": {
        "id": "CxIDefg0ZJab"
      },
      "source": [
        "#### 4.1.1 Predicting Category via Logistic Regression<a name='predictlogisticregression'></a>"
      ]
    },
    {
      "cell_type": "markdown",
      "source": [
        "Item Name"
      ],
      "metadata": {
        "id": "t3Oov13K05oY"
      }
    },
    {
      "cell_type": "code",
      "execution_count": 165,
      "metadata": {
        "colab": {
          "base_uri": "https://localhost:8080/",
          "height": 0
        },
        "outputId": "9818a903-3aa6-4e1a-8e93-8ac20d3d72a1",
        "id": "qo7IYDyJ0txb"
      },
      "outputs": [
        {
          "output_type": "stream",
          "name": "stdout",
          "text": [
            "CPU times: user 24.2 ms, sys: 9.15 ms, total: 33.3 ms\n",
            "Wall time: 738 ms\n"
          ]
        },
        {
          "output_type": "execute_result",
          "data": {
            "text/plain": [
              "LogisticRegression(max_iter=5000, multi_class='multinomial', n_jobs=-1,\n",
              "                   random_state=1)"
            ]
          },
          "metadata": {},
          "execution_count": 165
        }
      ],
      "source": [
        "%time lr.fit(X_name_train, y_train)"
      ]
    },
    {
      "cell_type": "code",
      "execution_count": 166,
      "metadata": {
        "colab": {
          "base_uri": "https://localhost:8080/",
          "height": 0
        },
        "outputId": "edf39083-3d3f-4275-f433-a2455de2edb8",
        "id": "Nu3DMBOR0txc"
      },
      "outputs": [
        {
          "output_type": "stream",
          "name": "stdout",
          "text": [
            "classification report:\n",
            "              precision    recall  f1-score   support\n",
            "\n",
            "         Eye       0.99      0.97      0.98        91\n",
            "        Face       0.98      0.99      0.98       187\n",
            "         Lip       0.99      0.99      0.99       100\n",
            "\n",
            "    accuracy                           0.98       378\n",
            "   macro avg       0.99      0.98      0.98       378\n",
            "weighted avg       0.98      0.98      0.98       378\n",
            "\n"
          ]
        }
      ],
      "source": [
        "y_pred = lr.predict(X_name_test)\n",
        "print(\"classification report:\")\n",
        "print(classification_report(y_test, y_pred))"
      ]
    },
    {
      "cell_type": "code",
      "execution_count": 167,
      "metadata": {
        "scrolled": false,
        "colab": {
          "base_uri": "https://localhost:8080/",
          "height": 296
        },
        "outputId": "5c995041-0f26-4eaf-e704-a6750c5ec23e",
        "id": "D1wNxojz0txc"
      },
      "outputs": [
        {
          "output_type": "execute_result",
          "data": {
            "text/plain": [
              "<sklearn.metrics._plot.confusion_matrix.ConfusionMatrixDisplay at 0x7ff70b383a60>"
            ]
          },
          "metadata": {},
          "execution_count": 167
        },
        {
          "output_type": "display_data",
          "data": {
            "text/plain": [
              "<Figure size 432x288 with 2 Axes>"
            ],
            "image/png": "[encoded data removed]"
          },
          "metadata": {
            "needs_background": "light"
          }
        }
      ],
      "source": [
        "matrix = confusion_matrix(y_test, y_pred, labels = lr.classes_)\n",
        "disp = ConfusionMatrixDisplay(confusion_matrix=matrix,display_labels= lr.classes_)\n",
        "disp.plot(cmap='RdPu')"
      ]
    },
    {
      "cell_type": "markdown",
      "source": [
        "Description"
      ],
      "metadata": {
        "id": "yCObLxPa03cu"
      }
    },
    {
      "cell_type": "code",
      "execution_count": 157,
      "metadata": {
        "id": "usgnf7yrZJab",
        "colab": {
          "base_uri": "https://localhost:8080/",
          "height": 0
        },
        "outputId": "4ab20f3e-9a36-4d93-b1b4-752b0a60f824"
      },
      "outputs": [
        {
          "output_type": "stream",
          "name": "stdout",
          "text": [
            "CPU times: user 176 ms, sys: 160 ms, total: 337 ms\n",
            "Wall time: 6.38 s\n"
          ]
        },
        {
          "output_type": "execute_result",
          "data": {
            "text/plain": [
              "LogisticRegression(max_iter=5000, multi_class='multinomial', n_jobs=-1,\n",
              "                   random_state=1)"
            ]
          },
          "metadata": {},
          "execution_count": 157
        }
      ],
      "source": [
        "%time lr.fit(X_description_train, y_train)"
      ]
    },
    {
      "cell_type": "code",
      "execution_count": 158,
      "metadata": {
        "id": "dxNi-mVgZJab",
        "colab": {
          "base_uri": "https://localhost:8080/",
          "height": 0
        },
        "outputId": "b80b1f12-20d2-4325-c525-f66a0eeec523"
      },
      "outputs": [
        {
          "output_type": "stream",
          "name": "stdout",
          "text": [
            "classification report:\n",
            "              precision    recall  f1-score   support\n",
            "\n",
            "         Eye       0.96      0.87      0.91        91\n",
            "        Face       0.89      0.99      0.94       187\n",
            "         Lip       0.98      0.86      0.91       100\n",
            "\n",
            "    accuracy                           0.93       378\n",
            "   macro avg       0.94      0.91      0.92       378\n",
            "weighted avg       0.93      0.93      0.93       378\n",
            "\n"
          ]
        }
      ],
      "source": [
        "y_pred = lr.predict(X_description_test)\n",
        "print(\"classification report:\")\n",
        "print(classification_report(y_test, y_pred))"
      ]
    },
    {
      "cell_type": "code",
      "execution_count": 159,
      "metadata": {
        "id": "IdNVRfkSZJac",
        "scrolled": false,
        "colab": {
          "base_uri": "https://localhost:8080/",
          "height": 296
        },
        "outputId": "0c36dfda-1cbe-45cb-80cd-f904448c2681"
      },
      "outputs": [
        {
          "output_type": "execute_result",
          "data": {
            "text/plain": [
              "<sklearn.metrics._plot.confusion_matrix.ConfusionMatrixDisplay at 0x7ff70dd11ac0>"
            ]
          },
          "metadata": {},
          "execution_count": 159
        },
        {
          "output_type": "display_data",
          "data": {
            "text/plain": [
              "<Figure size 432x288 with 2 Axes>"
            ],
            "image/png": "[encoded data removed]"
          },
          "metadata": {
            "needs_background": "light"
          }
        }
      ],
      "source": [
        "matrix = confusion_matrix(y_test, y_pred, labels = lr.classes_)\n",
        "disp = ConfusionMatrixDisplay(confusion_matrix=matrix,display_labels= lr.classes_)\n",
        "disp.plot(cmap='RdPu')"
      ]
    },
    {
      "cell_type": "markdown",
      "metadata": {
        "id": "JedNXYIUZJac"
      },
      "source": [
        "Item Name is a better indicator of the product category."
      ]
    },
    {
      "cell_type": "markdown",
      "metadata": {
        "id": "Ac7N4vN5ZJad"
      },
      "source": [
        "#### 4.1.2 Predicting Category via Support Vector Machine<a name='predictsvc'></a>"
      ]
    },
    {
      "cell_type": "code",
      "execution_count": 168,
      "metadata": {
        "colab": {
          "base_uri": "https://localhost:8080/",
          "height": 0
        },
        "outputId": "28024e58-9f20-4c8d-a264-cf7dc4352409",
        "id": "rv3SFd_E1MC0"
      },
      "outputs": [
        {
          "output_type": "stream",
          "name": "stdout",
          "text": [
            "CPU times: user 597 ms, sys: 1.32 ms, total: 598 ms\n",
            "Wall time: 624 ms\n"
          ]
        },
        {
          "output_type": "execute_result",
          "data": {
            "text/plain": [
              "SVC()"
            ]
          },
          "metadata": {},
          "execution_count": 168
        }
      ],
      "source": [
        "%time svc.fit(X_name_train, y_train)"
      ]
    },
    {
      "cell_type": "code",
      "execution_count": 169,
      "metadata": {
        "colab": {
          "base_uri": "https://localhost:8080/",
          "height": 0
        },
        "outputId": "ceab26d7-5e45-454c-977e-0b08c88c86af",
        "id": "EET47-xr1MC2"
      },
      "outputs": [
        {
          "output_type": "stream",
          "name": "stdout",
          "text": [
            "classification report:\n",
            "              precision    recall  f1-score   support\n",
            "\n",
            "         Eye       0.99      0.96      0.97        91\n",
            "        Face       0.97      0.99      0.98       187\n",
            "         Lip       0.99      0.99      0.99       100\n",
            "\n",
            "    accuracy                           0.98       378\n",
            "   macro avg       0.98      0.98      0.98       378\n",
            "weighted avg       0.98      0.98      0.98       378\n",
            "\n"
          ]
        }
      ],
      "source": [
        "y_pred = svc.predict(X_name_test)\n",
        "print(\"classification report:\")\n",
        "print(classification_report(y_test, y_pred))"
      ]
    },
    {
      "cell_type": "code",
      "execution_count": 170,
      "metadata": {
        "scrolled": false,
        "colab": {
          "base_uri": "https://localhost:8080/",
          "height": 296
        },
        "outputId": "bb44d7d1-d7bb-4bb6-a284-7d3d1f03c8a1",
        "id": "WOFrp7l21MC3"
      },
      "outputs": [
        {
          "output_type": "execute_result",
          "data": {
            "text/plain": [
              "<sklearn.metrics._plot.confusion_matrix.ConfusionMatrixDisplay at 0x7ff70b43a5b0>"
            ]
          },
          "metadata": {},
          "execution_count": 170
        },
        {
          "output_type": "display_data",
          "data": {
            "text/plain": [
              "<Figure size 432x288 with 2 Axes>"
            ],
            "image/png": "[encoded data removed]"
          },
          "metadata": {
            "needs_background": "light"
          }
        }
      ],
      "source": [
        "matrix = confusion_matrix(y_test, y_pred, labels = svc.classes_)\n",
        "disp = ConfusionMatrixDisplay(confusion_matrix=matrix,display_labels= svc.classes_)\n",
        "disp.plot(cmap='RdPu')"
      ]
    },
    {
      "cell_type": "code",
      "execution_count": 161,
      "metadata": {
        "id": "hBszdHMQZJad",
        "colab": {
          "base_uri": "https://localhost:8080/",
          "height": 0
        },
        "outputId": "e4379277-c348-437b-86bf-10cc9bc56812"
      },
      "outputs": [
        {
          "output_type": "stream",
          "name": "stdout",
          "text": [
            "CPU times: user 14.2 s, sys: 52.1 ms, total: 14.3 s\n",
            "Wall time: 14.3 s\n"
          ]
        },
        {
          "output_type": "execute_result",
          "data": {
            "text/plain": [
              "SVC()"
            ]
          },
          "metadata": {},
          "execution_count": 161
        }
      ],
      "source": [
        "%time svc.fit(X_description_train, y_train)"
      ]
    },
    {
      "cell_type": "code",
      "execution_count": 162,
      "metadata": {
        "id": "HgjV-O2fZJad",
        "colab": {
          "base_uri": "https://localhost:8080/",
          "height": 0
        },
        "outputId": "a1496f3c-15c1-4a32-9503-59a2315a9556"
      },
      "outputs": [
        {
          "output_type": "stream",
          "name": "stdout",
          "text": [
            "classification report:\n",
            "              precision    recall  f1-score   support\n",
            "\n",
            "         Eye       0.96      0.87      0.91        91\n",
            "        Face       0.87      0.99      0.93       187\n",
            "         Lip       0.99      0.83      0.90       100\n",
            "\n",
            "    accuracy                           0.92       378\n",
            "   macro avg       0.94      0.90      0.91       378\n",
            "weighted avg       0.93      0.92      0.92       378\n",
            "\n"
          ]
        }
      ],
      "source": [
        "y_pred = svc.predict(X_description_test)\n",
        "print(\"classification report:\")\n",
        "print(classification_report(y_test, y_pred))"
      ]
    },
    {
      "cell_type": "code",
      "execution_count": 163,
      "metadata": {
        "id": "cGURRccxZJad",
        "scrolled": false,
        "colab": {
          "base_uri": "https://localhost:8080/",
          "height": 296
        },
        "outputId": "56098892-44cc-4f8e-96f0-56af33ac0496"
      },
      "outputs": [
        {
          "output_type": "execute_result",
          "data": {
            "text/plain": [
              "<sklearn.metrics._plot.confusion_matrix.ConfusionMatrixDisplay at 0x7ff71a545d30>"
            ]
          },
          "metadata": {},
          "execution_count": 163
        },
        {
          "output_type": "display_data",
          "data": {
            "text/plain": [
              "<Figure size 432x288 with 2 Axes>"
            ],
            "image/png": "[encoded data removed]"
          },
          "metadata": {
            "needs_background": "light"
          }
        }
      ],
      "source": [
        "matrix = confusion_matrix(y_test, y_pred, labels = svc.classes_)\n",
        "disp = ConfusionMatrixDisplay(confusion_matrix=matrix,display_labels= svc.classes_)\n",
        "disp.plot(cmap='RdPu')"
      ]
    },
    {
      "cell_type": "markdown",
      "metadata": {
        "id": "LaEVg4IJZJad"
      },
      "source": [
        "Lowered recall for Lip compared to using Logistic Regression."
      ]
    },
    {
      "cell_type": "markdown",
      "metadata": {
        "id": "WITfHbtRZJad"
      },
      "source": [
        "#### 4.1.3 Predicting Category via Naive Bayes<a name='predictnaivebayes'></a>"
      ]
    },
    {
      "cell_type": "code",
      "execution_count": 171,
      "metadata": {
        "colab": {
          "base_uri": "https://localhost:8080/",
          "height": 0
        },
        "outputId": "549bdf50-b0be-43c4-80a7-6581fa602548",
        "id": "g_jZRjh51faM"
      },
      "outputs": [
        {
          "output_type": "stream",
          "name": "stdout",
          "text": [
            "CPU times: user 29.8 ms, sys: 3.16 ms, total: 33 ms\n",
            "Wall time: 30.3 ms\n"
          ]
        },
        {
          "output_type": "execute_result",
          "data": {
            "text/plain": [
              "MultinomialNB()"
            ]
          },
          "metadata": {},
          "execution_count": 171
        }
      ],
      "source": [
        "%time nb.fit(X_name_train, y_train)"
      ]
    },
    {
      "cell_type": "code",
      "execution_count": 172,
      "metadata": {
        "colab": {
          "base_uri": "https://localhost:8080/",
          "height": 0
        },
        "outputId": "50c74cce-e9cd-4447-8cc9-175d2da6f5f7",
        "id": "GoSo76ZJ1faN"
      },
      "outputs": [
        {
          "output_type": "stream",
          "name": "stdout",
          "text": [
            "classification report:\n",
            "              precision    recall  f1-score   support\n",
            "\n",
            "         Eye       0.98      0.97      0.97        91\n",
            "        Face       0.98      0.98      0.98       187\n",
            "         Lip       0.97      0.98      0.98       100\n",
            "\n",
            "    accuracy                           0.98       378\n",
            "   macro avg       0.98      0.98      0.98       378\n",
            "weighted avg       0.98      0.98      0.98       378\n",
            "\n"
          ]
        }
      ],
      "source": [
        "y_pred = nb.predict(X_name_test)\n",
        "print(\"classification report:\")\n",
        "print(classification_report(y_test, y_pred))"
      ]
    },
    {
      "cell_type": "code",
      "execution_count": 173,
      "metadata": {
        "scrolled": false,
        "colab": {
          "base_uri": "https://localhost:8080/",
          "height": 296
        },
        "outputId": "0740b452-cc04-47c8-c493-e04ffa58f111",
        "id": "DO0-8nnp1faN"
      },
      "outputs": [
        {
          "output_type": "execute_result",
          "data": {
            "text/plain": [
              "<sklearn.metrics._plot.confusion_matrix.ConfusionMatrixDisplay at 0x7ff70b239d00>"
            ]
          },
          "metadata": {},
          "execution_count": 173
        },
        {
          "output_type": "display_data",
          "data": {
            "text/plain": [
              "<Figure size 432x288 with 2 Axes>"
            ],
            "image/png": "[encoded data removed]"
          },
          "metadata": {
            "needs_background": "light"
          }
        }
      ],
      "source": [
        "matrix = confusion_matrix(y_test, y_pred, labels = nb.classes_)\n",
        "disp = ConfusionMatrixDisplay(confusion_matrix=matrix,display_labels= nb.classes_)\n",
        "disp.plot(cmap='RdPu')"
      ]
    },
    {
      "cell_type": "code",
      "execution_count": 174,
      "metadata": {
        "colab": {
          "base_uri": "https://localhost:8080/",
          "height": 0
        },
        "outputId": "17ecc899-af8e-4d78-93b7-09925297437b",
        "id": "HAxp04551faN"
      },
      "outputs": [
        {
          "output_type": "stream",
          "name": "stdout",
          "text": [
            "CPU times: user 177 ms, sys: 10.9 ms, total: 188 ms\n",
            "Wall time: 224 ms\n"
          ]
        },
        {
          "output_type": "execute_result",
          "data": {
            "text/plain": [
              "MultinomialNB()"
            ]
          },
          "metadata": {},
          "execution_count": 174
        }
      ],
      "source": [
        "%time nb.fit(X_description_train, y_train)"
      ]
    },
    {
      "cell_type": "code",
      "execution_count": 175,
      "metadata": {
        "colab": {
          "base_uri": "https://localhost:8080/",
          "height": 0
        },
        "outputId": "b2076fcb-dd02-4a01-8218-b91196d6f980",
        "id": "BYdOyi6j1faN"
      },
      "outputs": [
        {
          "output_type": "stream",
          "name": "stdout",
          "text": [
            "classification report:\n",
            "              precision    recall  f1-score   support\n",
            "\n",
            "         Eye       0.96      0.88      0.92        91\n",
            "        Face       0.88      0.99      0.93       187\n",
            "         Lip       0.98      0.82      0.89       100\n",
            "\n",
            "    accuracy                           0.92       378\n",
            "   macro avg       0.94      0.90      0.91       378\n",
            "weighted avg       0.92      0.92      0.92       378\n",
            "\n"
          ]
        }
      ],
      "source": [
        "y_pred = nb.predict(X_description_test)\n",
        "print(\"classification report:\")\n",
        "print(classification_report(y_test, y_pred))"
      ]
    },
    {
      "cell_type": "code",
      "execution_count": 176,
      "metadata": {
        "scrolled": false,
        "colab": {
          "base_uri": "https://localhost:8080/",
          "height": 296
        },
        "outputId": "2afeb0aa-601b-48fe-d07b-2804b6b7b9f5",
        "id": "fuG61Yj91faO"
      },
      "outputs": [
        {
          "output_type": "execute_result",
          "data": {
            "text/plain": [
              "<sklearn.metrics._plot.confusion_matrix.ConfusionMatrixDisplay at 0x7ff70b23d9d0>"
            ]
          },
          "metadata": {},
          "execution_count": 176
        },
        {
          "output_type": "display_data",
          "data": {
            "text/plain": [
              "<Figure size 432x288 with 2 Axes>"
            ],
            "image/png": "[encoded data removed]"
          },
          "metadata": {
            "needs_background": "light"
          }
        }
      ],
      "source": [
        "matrix = confusion_matrix(y_test, y_pred, labels = nb.classes_)\n",
        "disp = ConfusionMatrixDisplay(confusion_matrix=matrix,display_labels= nb.classes_)\n",
        "disp.plot(cmap='RdPu')"
      ]
    },
    {
      "cell_type": "markdown",
      "metadata": {
        "id": "jBwxYg4Z1faO"
      },
      "source": [
        "By far the lowest accuracy when using TF-TDF of description as compared to earlier classifiers."
      ]
    },
    {
      "cell_type": "markdown",
      "metadata": {
        "id": "UYnNYpedZJaf"
      },
      "source": [
        "### 4.2 Model selection, Performance Evaluation and Hyperparameter Tuning using Pipeline along with GridSearch<a name='gridsearchcv'></a>"
      ]
    },
    {
      "cell_type": "markdown",
      "metadata": {
        "id": "xy2wms68ZJaf"
      },
      "source": [
        "From the previous results, it seems that Logistic Regression works better, applied to the TF-IDF item name vector space model so I will use this. Now I will attempt hyperparameter tuning to find the optimal hyperparamers for this model."
      ]
    },
    {
      "cell_type": "code",
      "execution_count": 188,
      "metadata": {
        "id": "kCMRILAqZJaf"
      },
      "outputs": [],
      "source": [
        "lr = LogisticRegression(max_iter=5000, random_state=1, solver='lbfgs', multi_class='multinomial', n_jobs=-1, verbose=3)\n",
        "\n",
        "pipe = Pipeline(steps=[('estimator', lr)])\n",
        "\n",
        "params_grid =   {\n",
        "                'estimator__C': [0.01, 0.03, 0.1, 0.3, 1, 3, 10, 30, 100]\n",
        "                }\n",
        "\n",
        "scoring = ['f1_weighted']"
      ]
    },
    {
      "cell_type": "code",
      "execution_count": 189,
      "metadata": {
        "id": "XPeVdWoeZJag"
      },
      "outputs": [],
      "source": [
        "gs_clf = GridSearchCV(pipe, params_grid, scoring=scoring, refit='f1_weighted', cv=3, n_jobs=-1, verbose=3)"
      ]
    },
    {
      "cell_type": "code",
      "execution_count": 190,
      "metadata": {
        "id": "UP2hrjDQZJag",
        "colab": {
          "base_uri": "https://localhost:8080/",
          "height": 0
        },
        "outputId": "ef65360b-0e20-459b-ca24-76f9cbc5d983"
      },
      "outputs": [
        {
          "output_type": "stream",
          "name": "stdout",
          "text": [
            "Fitting 3 folds for each of 9 candidates, totalling 27 fits\n"
          ]
        },
        {
          "output_type": "stream",
          "name": "stderr",
          "text": [
            "[Parallel(n_jobs=-1)]: Using backend LokyBackend with 2 concurrent workers.\n",
            "[Parallel(n_jobs=-1)]: Done   1 out of   1 | elapsed:    0.7s finished\n"
          ]
        },
        {
          "output_type": "stream",
          "name": "stdout",
          "text": [
            "CPU times: user 181 ms, sys: 26.7 ms, total: 208 ms\n",
            "Wall time: 9.78 s\n"
          ]
        }
      ],
      "source": [
        "%time gs_clf = gs_clf.fit(X_name_train, y_train)"
      ]
    },
    {
      "cell_type": "markdown",
      "metadata": {
        "id": "xjLCnTLvZJag"
      },
      "source": [
        "Show the best parameters."
      ]
    },
    {
      "cell_type": "code",
      "execution_count": 191,
      "metadata": {
        "id": "1ASA0USlZJag",
        "colab": {
          "base_uri": "https://localhost:8080/",
          "height": 0
        },
        "outputId": "46aca26d-cc91-417c-b67a-1db550ea6bd2"
      },
      "outputs": [
        {
          "output_type": "stream",
          "name": "stdout",
          "text": [
            "Grid Search\n",
            "The best f1-weighted score is: 0.9860524724501718\n",
            "estimator__C: 30\n"
          ]
        }
      ],
      "source": [
        "print(\"Grid Search\")\n",
        "print(\"The best f1-weighted score is: \"+ str(gs_clf.best_score_))\n",
        "\n",
        "for param_name in sorted(params_grid.keys()):\n",
        "    print(\"%s: %r\" % (param_name, gs_clf.best_params_[param_name]))"
      ]
    },
    {
      "cell_type": "markdown",
      "metadata": {
        "id": "mTh0SCpLZJag"
      },
      "source": [
        "### 4.3 Performing Predictions<a name='prediction'></a>"
      ]
    },
    {
      "cell_type": "markdown",
      "metadata": {
        "id": "-fAj9C2qZJag"
      },
      "source": [
        "Finally, evaluate this model using the test set."
      ]
    },
    {
      "cell_type": "code",
      "execution_count": 192,
      "metadata": {
        "id": "d49kDmdfZJag",
        "colab": {
          "base_uri": "https://localhost:8080/",
          "height": 0
        },
        "outputId": "01f5556c-b7a9-4481-c5b2-fac1b676a9ec"
      },
      "outputs": [
        {
          "output_type": "stream",
          "name": "stdout",
          "text": [
            "classification report:\n",
            "              precision    recall  f1-score   support\n",
            "\n",
            "         Eye       0.99      0.98      0.98        91\n",
            "        Face       0.98      0.99      0.99       187\n",
            "         Lip       0.99      0.99      0.99       100\n",
            "\n",
            "    accuracy                           0.99       378\n",
            "   macro avg       0.99      0.99      0.99       378\n",
            "weighted avg       0.99      0.99      0.99       378\n",
            "\n"
          ]
        }
      ],
      "source": [
        "y_pred = gs_clf.predict(X_name_test)\n",
        "print(\"classification report:\")\n",
        "print(classification_report(y_test, y_pred))"
      ]
    },
    {
      "cell_type": "markdown",
      "metadata": {
        "id": "maU4tCvYZJah"
      },
      "source": [
        "Scores are the same on the test set after hyperparameter tuning."
      ]
    },
    {
      "cell_type": "code",
      "execution_count": 182,
      "metadata": {
        "id": "q274bv_9ZJah",
        "scrolled": false,
        "colab": {
          "base_uri": "https://localhost:8080/",
          "height": 296
        },
        "outputId": "ef304e94-5341-44ff-ee0e-29286ba1a459"
      },
      "outputs": [
        {
          "output_type": "execute_result",
          "data": {
            "text/plain": [
              "<sklearn.metrics._plot.confusion_matrix.ConfusionMatrixDisplay at 0x7ff70b0eb850>"
            ]
          },
          "metadata": {},
          "execution_count": 182
        },
        {
          "output_type": "display_data",
          "data": {
            "text/plain": [
              "<Figure size 432x288 with 2 Axes>"
            ],
            "image/png": "[encoded data removed]"
          },
          "metadata": {
            "needs_background": "light"
          }
        }
      ],
      "source": [
        "matrix = confusion_matrix(y_test, y_pred, labels = gs_clf.classes_)\n",
        "disp = ConfusionMatrixDisplay(confusion_matrix=matrix,display_labels= gs_clf.classes_)\n",
        "disp.plot(cmap='RdPu')"
      ]
    },
    {
      "cell_type": "markdown",
      "source": [
        "Confusion matrix is also the same. It is likely no further improvement can be made on this model."
      ],
      "metadata": {
        "id": "EZuZfW2p3iVJ"
      }
    },
    {
      "cell_type": "code",
      "execution_count": null,
      "metadata": {
        "id": "DKmaXMAdTIA0"
      },
      "outputs": [],
      "source": []
    }
  ],
  "metadata": {
    "kernelspec": {
      "display_name": "Python 3",
      "language": "python",
      "name": "python3"
    },
    "language_info": {
      "codemirror_mode": {
        "name": "ipython",
        "version": 3
      },
      "file_extension": ".py",
      "mimetype": "text/x-python",
      "name": "python",
      "nbconvert_exporter": "python",
      "pygments_lexer": "ipython3",
      "version": "3.8.5"
    },
    "colab": {
      "provenance": []
    }
  },
  "nbformat": 4,
  "nbformat_minor": 0
}